{
 "cells": [
  {
   "cell_type": "markdown",
   "id": "51115fca-b167-40f2-a801-8cee32df62a2",
   "metadata": {
    "jp-MarkdownHeadingCollapsed": true
   },
   "source": [
    "# Imports"
   ]
  },
  {
   "cell_type": "code",
   "execution_count": null,
   "id": "adf28a7e-2f09-49e2-a0ce-af21fa6d979d",
   "metadata": {},
   "outputs": [],
   "source": [
    "import pandas as pd\n",
    "import numpy as np\n",
    "\n",
    "rj_epilepsia_total = pd.read_csv('../Dados/Base atualizada/rj_epilepsia_total.csv', sep=';')\n",
    "if 'Unnamed: 0' in rj_epilepsia_total.columns:\n",
    "    rj_epilepsia_total = rj_epilepsia_total.drop(columns=['Unnamed: 0'])\n",
    "rj_epilepsia_total"
   ]
  },
  {
   "cell_type": "code",
   "execution_count": null,
   "id": "ccbae485-75df-49f7-bab7-6069a5f820c5",
   "metadata": {},
   "outputs": [],
   "source": [
    "contagem_medicamentos = pd.read_csv('../Dados/Base atualizada/contagem_medicamentos.csv', sep=';')\n",
    "if 'Unnamed: 0' in contagem_medicamentos.columns:\n",
    "    contagem_medicamentos = contagem_medicamentos.drop(columns=['Unnamed: 0'])\n",
    "contagem_medicamentos"
   ]
  },
  {
   "cell_type": "code",
   "execution_count": null,
   "id": "f9e3ce92-fb87-4dff-9514-9b5993800e49",
   "metadata": {},
   "outputs": [],
   "source": [
    "contagem_motivo_saida_total = pd.read_csv('../Dados/Base atualizada/contagem_motivo_saida_total.csv', sep=';')\n",
    "if 'Unnamed: 0' in contagem_motivo_saida_total.columns:\n",
    "    contagem_motivo_saida_total = contagem_motivo_saida_total.drop(columns=['Unnamed: 0'])\n",
    "contagem_motivo_saida_total"
   ]
  },
  {
   "cell_type": "code",
   "execution_count": null,
   "id": "2070565a-1de2-4135-b445-56d76e9267ea",
   "metadata": {},
   "outputs": [],
   "source": [
    "contagem_municipios = pd.read_csv('../Dados/Base atualizada/contagem_municipios.csv', sep=';')\n",
    "if 'Unnamed: 0' in contagem_municipios.columns:\n",
    "    contagem_municipios = contagem_municipios.drop(columns=['Unnamed: 0'])\n",
    "contagem_municipios"
   ]
  },
  {
   "cell_type": "code",
   "execution_count": null,
   "id": "ec433724-6c41-4bc1-b86c-3c1eb18b5c59",
   "metadata": {},
   "outputs": [],
   "source": [
    "rj_medicamentos_mes = pd.read_csv('../Dados/Base atualizada/rj_medicamentos_mes.csv', sep=';')\n",
    "if 'Unnamed: 0' in rj_medicamentos_mes.columns:\n",
    "    rj_medicamentos_mes = rj_medicamentos_mes.drop(columns=['Unnamed: 0'])\n",
    "rj_medicamentos_mes"
   ]
  },
  {
   "cell_type": "code",
   "execution_count": null,
   "id": "b6f8213f-cf63-4d93-8dcd-5ef6fc540a6b",
   "metadata": {},
   "outputs": [],
   "source": [
    "rj_pacientes_fem = pd.read_csv('../Dados/Base atualizada/rj_pacientes_fem.csv', sep=';')\n",
    "if 'Unnamed: 0' in rj_pacientes_fem.columns:\n",
    "    rj_pacientes_fem = rj_pacientes_fem.drop(columns=['Unnamed: 0'])\n",
    "rj_pacientes_fem"
   ]
  },
  {
   "cell_type": "code",
   "execution_count": null,
   "id": "fb6fd7e6-cad9-4f9f-9409-add2211ef3b6",
   "metadata": {},
   "outputs": [],
   "source": [
    "rj_pacientes_masc = pd.read_csv('../Dados/Base atualizada/rj_pacientes_masc.csv', sep=';')\n",
    "if 'Unnamed: 0' in rj_pacientes_masc.columns:\n",
    "    rj_pacientes_masc = rj_pacientes_masc.drop(columns=['Unnamed: 0'])\n",
    "rj_pacientes_masc"
   ]
  },
  {
   "cell_type": "code",
   "execution_count": null,
   "id": "b7ada1e0-03c2-49ac-8a34-ee11751f804f",
   "metadata": {},
   "outputs": [],
   "source": [
    "rj_pacientes_gabapentina = pd.read_csv('../Dados/Base atualizada/rj_pacientes_gabapentina.csv', sep=';')\n",
    "if 'Unnamed: 0' in rj_pacientes_gabapentina.columns:\n",
    "    rj_pacientes_gabapentina = rj_pacientes_gabapentina.drop(columns=['Unnamed: 0'])\n",
    "rj_pacientes_gabapentina"
   ]
  },
  {
   "cell_type": "code",
   "execution_count": null,
   "id": "f3ce5bda-760a-40b0-b7ae-8ae5e15a5f02",
   "metadata": {},
   "outputs": [],
   "source": [
    "rj_pacientes_levetiracetam = pd.read_csv('../Dados/Base atualizada/rj_pacientes_levetiracetam.csv', sep=';')\n",
    "if 'Unnamed: 0' in rj_pacientes_levetiracetam.columns:\n",
    "    rj_pacientes_levetiracetam = rj_pacientes_levetiracetam.drop(columns=['Unnamed: 0'])\n",
    "rj_pacientes_levetiracetam"
   ]
  },
  {
   "cell_type": "code",
   "execution_count": null,
   "id": "99d1f6fe-cc0e-41d2-83b4-5e712e281c02",
   "metadata": {},
   "outputs": [],
   "source": [
    "rj_pacientes_lamotrigina = pd.read_csv('../Dados/Base atualizada/rj_pacientes_lamotrigina.csv', sep=';')\n",
    "if 'Unnamed: 0' in rj_pacientes_lamotrigina.columns:\n",
    "    rj_pacientes_lamotrigina = rj_pacientes_lamotrigina.drop(columns=['Unnamed: 0'])\n",
    "rj_pacientes_lamotrigina"
   ]
  },
  {
   "cell_type": "code",
   "execution_count": null,
   "id": "a468fe95-5d75-447b-bede-62b167136adc",
   "metadata": {},
   "outputs": [],
   "source": [
    "rj_pacientes_vigabatrina = pd.read_csv('../Dados/Base atualizada/rj_pacientes_vigabatrina.csv', sep=';')\n",
    "if 'Unnamed: 0' in rj_pacientes_vigabatrina.columns:\n",
    "    rj_pacientes_vigabatrina = rj_pacientes_vigabatrina.drop(columns=['Unnamed: 0'])\n",
    "rj_pacientes_vigabatrina"
   ]
  },
  {
   "cell_type": "code",
   "execution_count": null,
   "id": "57184885-9f3d-4e99-98ad-2daa1dc2d015",
   "metadata": {},
   "outputs": [],
   "source": [
    "rj_pacientes_topiramato = pd.read_csv('../Dados/Base atualizada/rj_pacientes_topiramato.csv', sep=';')\n",
    "if 'Unnamed: 0' in rj_pacientes_topiramato.columns:\n",
    "    rj_pacientes_topiramato = rj_pacientes_topiramato.drop(columns=['Unnamed: 0'])\n",
    "rj_pacientes_topiramato"
   ]
  },
  {
   "cell_type": "code",
   "execution_count": null,
   "id": "fe126720-42de-46ab-9e27-b400a2d51114",
   "metadata": {},
   "outputs": [],
   "source": [
    "rj_pacientes_unicos_data_atendimento = pd.read_csv('../Dados/Base atualizada/rj_pacientes_unicos_data_atendimento.csv', sep=';')\n",
    "if 'Unnamed: 0' in rj_pacientes_unicos_data_atendimento.columns:\n",
    "    rj_pacientes_unicos_data_atendimento = rj_pacientes_unicos_data_atendimento.drop(columns=['Unnamed: 0'])\n",
    "rj_pacientes_unicos_data_atendimento"
   ]
  },
  {
   "cell_type": "code",
   "execution_count": null,
   "id": "0a212074-2b8c-4f14-b54b-6f2588519464",
   "metadata": {},
   "outputs": [],
   "source": [
    "rj_quantidade_pacientes_masc_fem = pd.read_csv('../Dados/Base atualizada/rj_quantidade_pacientes_masc_fem.csv', sep=';')\n",
    "if 'Unnamed: 0' in rj_quantidade_pacientes_masc_fem.columns:\n",
    "    rj_quantidade_pacientes_masc_fem = rj_quantidade_pacientes_masc_fem.drop(columns=['Unnamed: 0'])\n",
    "rj_quantidade_pacientes_masc_fem"
   ]
  },
  {
   "cell_type": "code",
   "execution_count": null,
   "id": "1f78ff5a-763b-41fc-8ccf-43b1b4ddcf20",
   "metadata": {},
   "outputs": [],
   "source": [
    "rj_quantidade_pacientes_masc_fem_unicosss = pd.read_csv('../Dados/Base atualizada/rj_quantidade_pacientes_masc_fem_unicosss.csv', sep=';')\n",
    "if 'Unnamed: 0' in rj_quantidade_pacientes_masc_fem_unicosss.columns:\n",
    "    rj_quantidade_pacientes_masc_fem_unicosss = rj_quantidade_pacientes_masc_fem_unicosss.drop(columns=['Unnamed: 0'])\n",
    "rj_quantidade_pacientes_masc_fem_unicosss"
   ]
  },
  {
   "cell_type": "code",
   "execution_count": null,
   "id": "2117c396-4fbf-45cd-889e-828d7ea76eca",
   "metadata": {},
   "outputs": [],
   "source": [
    "rj_sexo_pacientes_unicos = pd.read_csv('../Dados/Base atualizada/rj_sexo_pacientes_unicos.csv', sep=';')\n",
    "if 'Unnamed: 0' in rj_sexo_pacientes_unicos.columns:\n",
    "    rj_sexo_pacientes_unicos = rj_sexo_pacientes_unicos.drop(columns=['Unnamed: 0'])\n",
    "rj_sexo_pacientes_unicos"
   ]
  },
  {
   "cell_type": "markdown",
   "id": "daf68118-5a46-4383-af0e-7956c12354f6",
   "metadata": {},
   "source": [
    "# Descricao dos DFs ja importados"
   ]
  },
  {
   "cell_type": "markdown",
   "id": "e87542bb-5ac4-4b2f-a1a8-0eca7b8d25d2",
   "metadata": {},
   "source": [
    "#### rj_epilepsia_total = dispensacoes totais tratadas\n",
    "#### rj_pacientes_{nome do medicamento} = dispensacoes totais daquele medicamento\n",
    "#### rj_pacientes_{masc ou fem} = dispensacoes totais para cada sexo\n",
    "#### rj_quantidade_pacientes_masc_fem_unicosss = numeros de pacientes unicos de cada sexo\n",
    "#### rj_pacientes_unicos_data_atendimento = pacientes no eixo y e datas no eixo x, com 0 ou 1 caso tenha retirado um medicamento no mes\n",
    "#### rj_medicamentos_mes = numero de dispensacoes de cada medicamento em cada mes\n",
    "#### contagem_municipios = numero de pacientes unicos por municipio\n",
    "#### contagem_motivo_saida_total = contagem de cada motivo de saida das dispensacoes totais\n",
    "#### contagem_medicamentos = contagem total das dispensacoes de cada medicamento"
   ]
  },
  {
   "cell_type": "markdown",
   "id": "6545b7ee-0ae7-410e-901c-d2e0a53e2598",
   "metadata": {
    "jp-MarkdownHeadingCollapsed": true
   },
   "source": [
    "# Probabilidades de Transicao de estado"
   ]
  },
  {
   "cell_type": "code",
   "execution_count": null,
   "id": "6e8642d3-b2b5-436d-a261-efbb91535f01",
   "metadata": {},
   "outputs": [],
   "source": [
    "import os\n",
    "\n",
    "file_path = '../Dados/Base atualizada/rj_epilepsia.csv'\n",
    "\n",
    "try:\n",
    "    # Tentar carregar o arquivo se ele existir\n",
    "    rj_epilepsia = pd.read_csv(file_path)\n",
    "    rj_epilepsia\n",
    "except:\n",
    "    # Função de classificação\n",
    "    def classifica_tratamento(row):\n",
    "        data_inicio = pd.to_datetime('2014-04-01')\n",
    "        data_fim = pd.to_datetime('2023-09-30')\n",
    "        if pd.isna(row[\"dif_tempo\"]) and row[\"data_atendimento\"] >= data_inicio:\n",
    "            return \"Início\"\n",
    "        if pd.isna(row[\"proximo_medicamento\"]) and row[\"data_atendimento\"] > data_fim:\n",
    "            return \"Em Tratamento\"\n",
    "        if row['dif_tempo'] and row['dif_tempo'].days > 93 and not pd.isna(row['proximo_medicamento']):\n",
    "            return \"Fora do Tratamento\"\n",
    "        if pd.isna(row[\"proximo_medicamento\"]):\n",
    "            return \"Saída\"\n",
    "        return row[\"proximo_medicamento\"]\n",
    "\n",
    "    # Selecionando as colunas necessárias\n",
    "    rj_epilepsia = rj_epilepsia_total.loc[:, [\n",
    "        \"data_atendimento\",\n",
    "        \"numero_cns_paciente\",\n",
    "        \"procedimento_principal_unico\",\n",
    "        \"idade_decimal\",\n",
    "        \"sexo_paciente\",\n",
    "        \"cid_principal\"\n",
    "    ]]\n",
    "\n",
    "    # Convertendo a coluna 'data_atendimento' para datetime\n",
    "    rj_epilepsia['data_atendimento'] = pd.to_datetime(rj_epilepsia['data_atendimento'])\n",
    "\n",
    "    # Adicionando coluna com o ano do atendimento\n",
    "    rj_epilepsia[\"ano_atendimento\"] = rj_epilepsia[\"data_atendimento\"].dt.year\n",
    "\n",
    "    # Ordenando a base\n",
    "    rj_epilepsia = rj_epilepsia.sort_values(by=['numero_cns_paciente', 'data_atendimento'])\n",
    "\n",
    "    # Encontrando a diferença de datas\n",
    "    rj_epilepsia['dif_tempo'] = rj_epilepsia.groupby('numero_cns_paciente')['data_atendimento'].diff()\n",
    "\n",
    "    # Encontrando o próximo medicamento\n",
    "    rj_epilepsia['proximo_medicamento'] = rj_epilepsia.groupby('numero_cns_paciente')['procedimento_principal_unico'].shift(-1)\n",
    "\n",
    "    # Aplicando a classificação de tratamento\n",
    "    rj_epilepsia['proximo_medicamento'] = rj_epilepsia.apply(classifica_tratamento, axis=1)\n",
    "\n",
    "    # Salvando o DataFrame no arquivo CSV\n",
    "    rj_epilepsia.to_csv(file_path, index=False)"
   ]
  },
  {
   "cell_type": "code",
   "execution_count": null,
   "id": "8c9a5c8e",
   "metadata": {},
   "outputs": [],
   "source": [
    "transicoes = pd.crosstab(rj_epilepsia['procedimento_principal_unico'], rj_epilepsia['proximo_medicamento'])\n",
    "\n",
    "# Normalizar a matriz de transição para obter as probabilidades\n",
    "matriz_transicao_estados = transicoes.div(transicoes.sum(axis=1), axis=0)\n",
    "\n",
    "transicoes.to_csv('../Dados/Base atualizada/matriz_transicoes.csv', sep =';')\n",
    "transicoes\n",
    "# matriz_transicao_estados\n",
    "# rj_epilepsia.sort_values(\"data_atendimento\")"
   ]
  },
  {
   "cell_type": "markdown",
   "id": "d7eb6920-f6e9-42f0-b0ad-b7c86c680f55",
   "metadata": {
    "jp-MarkdownHeadingCollapsed": true
   },
   "source": [
    "### Pacientes Fora por Ano"
   ]
  },
  {
   "cell_type": "code",
   "execution_count": null,
   "id": "87da0061-745c-45e2-97bd-eaa425987b98",
   "metadata": {},
   "outputs": [],
   "source": [
    "saida_tratamento = rj_epilepsia[(rj_epilepsia[\"proximo_medicamento\"]==\"Saída\")]\n",
    "saida_tratamento_crosstab = pd.crosstab(saida_tratamento[\"data_atendimento\"], saida_tratamento[\"procedimento_principal_unico\"], margins=True, margins_name=\"Total\")\n",
    "saida_tratamento_crosstab = pd.DataFrame(saida_tratamento_crosstab)"
   ]
  },
  {
   "cell_type": "code",
   "execution_count": null,
   "id": "7e83f261-122c-48a4-a2c7-f6f244fc03b3",
   "metadata": {},
   "outputs": [],
   "source": [
    "#Correção das saídas pela média móvel\n",
    "#Criando i, dataframe de\n",
    "saidas_corrigidas = pd.DataFrame(columns = [\"data_atendimento\",\"saida_corrigida\"])\n",
    "saidas_corrigidas[\"data_atendimento\"] = saida_tratamento_crosstab.reset_index()[\"data_atendimento\"]\n",
    "saidas_corrigidas[\"saida_corrigida\"] = 0\n",
    "for i in range(len(saida_tratamento_crosstab.columns) - 1):\n",
    "  nome_coluna = saida_tratamento_crosstab.columns[i]\n",
    "  coluna = pd.DataFrame(saida_tratamento_crosstab[nome_coluna])\n",
    "  coluna.columns = [\"saida\"]\n",
    "  coluna['media_movel'] = coluna['saida'].rolling(window=3).mean().round()\n",
    "  coluna['diferenca'] = coluna['saida'] - coluna['media_movel']\n",
    "  coluna['saida_corrigida'] = coluna.apply(\n",
    "  lambda row: row[\"saida\"] - row[\"diferenca\"] if (row[\"diferenca\"] > 0) else row[\"saida\"], \n",
    "                                                   axis=1\n",
    "                                                   )\n",
    "  \n",
    "  #Acrescentando os valores corrigidos ao dataset\n",
    "  saidas_corrigidas[\"saida_corrigida\"] = saidas_corrigidas[\"saida_corrigida\"] + coluna.reset_index()[\"saida_corrigida\"]\n",
    "\n",
    "  #Atualizando o valor nas transições de estado\n",
    "  transicoes.loc[nome_coluna,\"Saída\"] = coluna.loc[\"Total\",\"saida_corrigida\"]\n",
    "\n",
    "saidas_corrigidas = saidas_corrigidas.drop(saidas_corrigidas.index[-1])"
   ]
  },
  {
   "cell_type": "code",
   "execution_count": null,
   "id": "25fdd96b-6217-42fa-9094-42c460729cdf",
   "metadata": {},
   "outputs": [],
   "source": [
    "#Criando a coluna de ano nas colunas corrigidas\n",
    "saidas_corrigidas[\"data_atendimento\"] = pd.to_datetime(saidas_corrigidas[\"data_atendimento\"])\n",
    "saidas_corrigidas[\"ano_atendimento\"] = saidas_corrigidas[\"data_atendimento\"].dt.year\n",
    "saidas_corrigidas = saidas_corrigidas.groupby(\"ano_atendimento\")[\"saida_corrigida\"].sum().reset_index()\n",
    "saidas_corrigidas.to_csv('../Dados/Base atualizada/saidas_corrigidas_por_ano.csv', sep =';')\n",
    "saidas_corrigidas"
   ]
  },
  {
   "cell_type": "markdown",
   "id": "9b345741-1fb8-4b5a-906b-f1912d383b83",
   "metadata": {
    "jp-MarkdownHeadingCollapsed": true
   },
   "source": [
    "### Pacientes ausentes por ano"
   ]
  },
  {
   "cell_type": "code",
   "execution_count": null,
   "id": "5edbd2ae-97e0-441e-ac78-0b2041a31bf2",
   "metadata": {},
   "outputs": [],
   "source": [
    "ausente_tratamento = rj_epilepsia[(rj_epilepsia[\"proximo_medicamento\"]==\"Fora do Tratamento\")]\n",
    "ausente_tratamento_crosstab = pd.crosstab(ausente_tratamento[\"data_atendimento\"], ausente_tratamento[\"procedimento_principal_unico\"], margins=True, margins_name=\"Total\")\n",
    "ausente_tratamento_crosstab = pd.DataFrame(ausente_tratamento_crosstab)\n",
    "ausente_tratamento_crosstab.to_csv('../Dados/Base atualizada/ausente_tratamento_crosstab.csv', sep =';')\n",
    "ausente_tratamento_crosstab"
   ]
  },
  {
   "cell_type": "code",
   "execution_count": null,
   "id": "cf13d145-b426-4ed3-b9bf-5b48110edac9",
   "metadata": {},
   "outputs": [],
   "source": [
    "#Correção das ausências pela média móvel\n",
    "#Criando i, dataframe de\n",
    "ausentes_corrigidos = pd.DataFrame(columns = [\"data_atendimento\",\"ausente_corrigido\"])\n",
    "ausentes_corrigidos[\"data_atendimento\"] = ausente_tratamento_crosstab.reset_index()[\"data_atendimento\"]\n",
    "ausentes_corrigidos[\"ausente_corrigido\"] = 0\n",
    "for i in range(len(ausente_tratamento_crosstab.columns) - 1):\n",
    "  nome_coluna = ausente_tratamento_crosstab.columns[i]\n",
    "  coluna = pd.DataFrame(ausente_tratamento_crosstab[nome_coluna])\n",
    "  coluna.columns = [\"ausente\"]\n",
    "  coluna['media_movel'] = coluna['ausente'].rolling(window=3).mean().round()\n",
    "  coluna['diferenca'] = coluna['ausente'] - coluna['media_movel']\n",
    "  coluna['ausente_corrigido'] = coluna.apply(\n",
    "  lambda row: row[\"ausente\"] - row[\"diferenca\"] if (row[\"diferenca\"] > 0) else row[\"ausente\"], \n",
    "                                                   axis=1\n",
    "                                                   )\n",
    "  \n",
    "  #Acrescentando os valores corrigidos ao dataset\n",
    "  ausentes_corrigidos[\"ausente_corrigido\"] = ausentes_corrigidos[\"ausente_corrigido\"] + coluna.reset_index()[\"ausente_corrigido\"]\n",
    "\n",
    "  #Atualizando o valor nas transições de estado\n",
    "  transicoes.loc[nome_coluna,\"Fora do Tratamento\"] = coluna.loc[\"Total\",\"ausente_corrigido\"]\n",
    "\n",
    "ausentes_corrigidos = ausentes_corrigidos.drop(ausentes_corrigidos.index[-1])\n",
    "ausentes_corrigidos.to_csv('../Dados/Base atualizada/ausentes_corrigidos_mes.csv', sep =';')\n",
    "ausentes_corrigidos"
   ]
  },
  {
   "cell_type": "code",
   "execution_count": null,
   "id": "ae98c04e-cdab-4aee-abf9-c5409ed2dfa6",
   "metadata": {},
   "outputs": [],
   "source": [
    "#Criando a coluna de ano nas colunas corrigidas\n",
    "ausentes_corrigidos[\"data_atendimento\"] = pd.to_datetime(ausentes_corrigidos[\"data_atendimento\"])\n",
    "ausentes_corrigidos[\"ano_atendimento\"] = ausentes_corrigidos[\"data_atendimento\"].dt.year\n",
    "ausentes_corrigidos = ausentes_corrigidos.groupby(\"ano_atendimento\")[\"ausente_corrigido\"].sum().reset_index()\n",
    "ausentes_corrigidos.to_csv('../Dados/Base atualizada/ausentes_corrigidos_ano.csv', sep =';')\n",
    "ausentes_corrigidos"
   ]
  },
  {
   "cell_type": "markdown",
   "id": "d76bc699-8c41-4180-8cf2-d26d73d18c31",
   "metadata": {
    "jp-MarkdownHeadingCollapsed": true
   },
   "source": [
    "### Inclusão da Morbimortalidade"
   ]
  },
  {
   "cell_type": "code",
   "execution_count": null,
   "id": "061c23ce-4137-4f43-8cc8-57cde2d783de",
   "metadata": {},
   "outputs": [],
   "source": [
    "#Taxa de morbidade\n",
    "import pandas as pd\n",
    "import matplotlib.pyplot as plt\n",
    "from sklearn.linear_model import LinearRegression\n",
    "import numpy as np\n",
    "\n",
    "# Data from the uploaded image\n",
    "data = {\n",
    "    'Ano': [2014, 2015, 2016, 2017, 2018, 2019, 2020, 2021, 2022],\n",
    "    'Mortalidade': [121, 154, 164, 183, 192, 221, 234, 294, 307]\n",
    "}\n",
    "\n",
    "# Create DataFrame\n",
    "df = pd.DataFrame(data)\n",
    "\n",
    "# Prepare data for linear regression\n",
    "X = df['Ano'].values.reshape(-1, 1)\n",
    "y = df['Mortalidade'].values\n",
    "\n",
    "# Fit linear regression model\n",
    "model = LinearRegression()\n",
    "model.fit(X, y)\n",
    "\n",
    "# Predict the value for 2023\n",
    "year_2023 = np.array([[2023]])\n",
    "prediction_2023 = model.predict(year_2023)[0]\n",
    "\n",
    "# Plotando os dados e análise preditiva\n",
    "plt.scatter(df['Ano'], df['Mortalidade'], color='blue', label='Actual data')\n",
    "plt.plot(df['Ano'], model.predict(X), color='red', label='Linear fit')\n",
    "plt.scatter(2023, prediction_2023, color='green', label=f'Prediction for 2023: {prediction_2023:.2f}')\n",
    "plt.xlabel('Ano')\n",
    "plt.ylabel('Taxa intern. p/epilepsias')\n",
    "plt.title('Mortalidade')\n",
    "plt.legend()\n",
    "plt.grid(True)\n",
    "plt.savefig('../TCC Latex/images/morbimortalidade_previsao_2023.png')\n",
    "plt.show()\n",
    "\n",
    "prediction_2023"
   ]
  },
  {
   "cell_type": "code",
   "execution_count": null,
   "id": "0adce368-5535-43d9-a1fe-69408bb7db9d",
   "metadata": {},
   "outputs": [],
   "source": [
    "morbi_mortalidade = {\n",
    "    'ano_atendimento': [2014, 2015, 2016, 2017, 2018, 2019, 2020, 2021, 2022, 2023],\n",
    "    'Mortalidade': [121, 154, 164, 183, 192, 221, 234, 294, 307, 319],\n",
    "    'Morbidade': [2208,2635,2586,2879,3181,2763,2234,2638,3379,3510]}\n",
    "morbi_mortalidade = pd.DataFrame(morbi_mortalidade)\n",
    "transicoes\n",
    "p_mortalidade = morbi_mortalidade[\"Mortalidade\"].sum()/morbi_mortalidade[\"Morbidade\"].sum()\n",
    "# mortalidade = pd.DataFrame(mortalidade)\n",
    "# saida_tratamento_crosstab = pd.merge(saida_tratamento_crosstab, mortalidade,on=\"ano_mes\" )\n",
    "# saida_tratamento_crosstab.head(10)\n",
    "p_mortalidade"
   ]
  },
  {
   "cell_type": "code",
   "execution_count": null,
   "id": "fdd0b46e-864e-4a5d-8e6a-36855f2d3bb2",
   "metadata": {},
   "outputs": [],
   "source": [
    "#Calcular a incidencia de pacientes no programa\n",
    "incidencia = rj_epilepsia[rj_epilepsia[\"proximo_medicamento\"]==\"Início\"].groupby(\"ano_atendimento\")[\"numero_cns_paciente\"].nunique().reset_index()\n",
    "prevalencia = rj_epilepsia.groupby(\"ano_atendimento\")[\"numero_cns_paciente\"].nunique().reset_index()\n",
    "prevalencia.to_csv('../Dados/Base atualizada/prevalencia_ano.csv', sep =';')\n",
    "prevalencia"
   ]
  },
  {
   "cell_type": "markdown",
   "id": "3160f4dd-8c9b-4e87-86dd-001c0d537e46",
   "metadata": {
    "jp-MarkdownHeadingCollapsed": true
   },
   "source": [
    "### Criando indicadores anuais"
   ]
  },
  {
   "cell_type": "code",
   "execution_count": null,
   "id": "3ccea1a2-1b5c-477b-b15c-1ffcc3dfeb9e",
   "metadata": {},
   "outputs": [],
   "source": [
    "#Juntando os dados de saídas\n",
    "indicadores_agrupados = pd.merge(incidencia, prevalencia, on=\"ano_atendimento\")\n",
    "indicadores_agrupados.columns = [\"ano_atendimento\", \"Incidencia\", \"Prevalencia\"]\n",
    "indicadores_agrupados = pd.merge(indicadores_agrupados, morbi_mortalidade, on=\"ano_atendimento\")\n",
    "indicadores_agrupados = pd.merge(indicadores_agrupados, saidas_corrigidas, on=\"ano_atendimento\")\n",
    "indicadores_agrupados = pd.merge(indicadores_agrupados, ausentes_corrigidos, on=\"ano_atendimento\")\n",
    "indicadores_agrupados.to_csv('../Dados/Base atualizada/indicadores_agrupados_ano.csv', sep =';')\n",
    "indicadores_agrupados"
   ]
  },
  {
   "cell_type": "markdown",
   "id": "974d6a0b-a456-410d-bb32-75cd427ca36c",
   "metadata": {
    "jp-MarkdownHeadingCollapsed": true
   },
   "source": [
    "### Pacientes Novos"
   ]
  },
  {
   "cell_type": "code",
   "execution_count": null,
   "id": "95639b56-7435-4d5f-b953-8d0de45e3e20",
   "metadata": {},
   "outputs": [],
   "source": [
    "from scipy.stats import mode\n",
    "\n",
    "rj_epilepsia_novos = rj_epilepsia[rj_epilepsia[\"proximo_medicamento\"]==\"Início\"]\n",
    "rj_epilepsia_novos = rj_epilepsia_novos.sort_values(by=[\"numero_cns_paciente\",\"data_atendimento\"]).drop_duplicates(subset=[\"numero_cns_paciente\",\"data_atendimento\"], keep=\"first\")\n",
    "# rj_epilepsia_novos = rj_epilepsia_total.sort_values(by=[\"numero_cns_paciente\",\"data_atendimento_paciente\"]).drop_duplicates(subset=\"numero_cns_paciente\", keep=\"first\")\n",
    "\n",
    "q1 = (rj_epilepsia_novos[\"idade_decimal\"].quantile(q=0.25))\n",
    "q2 = (rj_epilepsia_novos[\"idade_decimal\"].quantile(q=0.5))\n",
    "q3 = (rj_epilepsia_novos[\"idade_decimal\"].quantile(q=0.75))\n",
    "\n",
    "#Parâmetros de idade para a amostragem\n",
    "mediana_idade_entrada = rj_epilepsia_novos[\"idade_decimal\"].median()\n",
    "media_idade_entrada = rj_epilepsia_novos[\"idade_decimal\"].mean()\n",
    "desvio_padrao_idade_entrada = rj_epilepsia_novos[\"idade_decimal\"].std()\n",
    "# # Calculando a moda\n",
    "moda_idade_entrada = mode(rj_epilepsia_novos[\"idade_decimal\"]).mode\n",
    "# # print(moda_entrada)\n",
    "# # moda = moda_result.mode[0]\n",
    "# # moda_frequencia = moda_result.count[0]\n",
    "\n",
    "print(q1, q2, q3, media_idade_entrada, desvio_padrao_idade_entrada, moda_idade_entrada)\n",
    "# rj_epilepsia_novos"
   ]
  },
  {
   "cell_type": "code",
   "execution_count": null,
   "id": "6a3e3cd3-77f4-4f02-83fc-933ade0c04af",
   "metadata": {},
   "outputs": [],
   "source": [
    "coeficiente_assimetria = (media_idade_entrada - moda_idade_entrada) / desvio_padrao_idade_entrada\n",
    "coeficiente_assimetria"
   ]
  },
  {
   "cell_type": "code",
   "execution_count": null,
   "id": "f2993faf-9c88-41a8-8b01-e8b40f82ab5e",
   "metadata": {},
   "outputs": [],
   "source": [
    "plt.hist(rj_epilepsia_novos[\"idade_decimal\"], bins=30, edgecolor='black')\n",
    "plt.title('Histograma da Distribuição de Idades')\n",
    "plt.xlabel('Idade')\n",
    "plt.ylabel('Frequência')\n",
    "plt.axvline(np.mean(rj_epilepsia_novos[\"idade_decimal\"]), color='red', linestyle='dashed', linewidth=1, label='Média')\n",
    "plt.axvline(np.median(rj_epilepsia_novos[\"idade_decimal\"]), color='blue', linestyle='dashed', linewidth=1, label='Mediana')\n",
    "plt.axvline(mode(rj_epilepsia_novos[\"idade_decimal\"]).mode, color='yellow', linestyle='dashed', linewidth=1, label=f'Moda')\n",
    "plt.legend()\n",
    "plt.savefig('../TCC Latex/images/histograma_distrbuicao_idades.png')\n",
    "plt.show()"
   ]
  },
  {
   "cell_type": "markdown",
   "id": "2eed01a6-fe95-4014-8dec-892f8f970bcf",
   "metadata": {
    "jp-MarkdownHeadingCollapsed": true
   },
   "source": [
    "### Levantar a morbimortalidade de epilepsia no Brasil"
   ]
  },
  {
   "cell_type": "code",
   "execution_count": null,
   "id": "a07c5206-3e5e-4b09-891a-0624bf3740f4",
   "metadata": {},
   "outputs": [],
   "source": [
    "#Calculando o numero de Pacientes novos por mês, no caso a incidência\n",
    "# df_novos = rj_epilepsia.drop_duplicates(subset=['numero_cns_paciente'], keep='first')\n",
    "# novos_pacientes_mes = df_novos.groupby('data_atendimento').size()\n",
    "# total_pacientes_por_mes = rj_epilepsia.groupby(rj_epilepsia['data_atendimento'].dt.to_period('M')).size()\n",
    "\n",
    "# media_pacientes_novos = novos_pacientes_mes.mean()\n",
    "# std_pacientes_novos = novos_pacientes_mes.std()\n",
    "# num_amostras = 1000  # Número de amostras a serem geradas\n",
    "# distribuicao = np.random.normal(loc=media_pacientes_novos, scale=std_pacientes_novos, size=num_amostras)\n",
    "# novos_pacientes_mes = df_epilepsia_novos.groupby('data_atendimento').size()\n",
    "# novos_pacientes_mes"
   ]
  },
  {
   "cell_type": "markdown",
   "id": "e44abe61-fd45-4ea6-ad8c-c25e7cd10b0b",
   "metadata": {
    "jp-MarkdownHeadingCollapsed": true
   },
   "source": [
    "### Incluindo a morbi mortalidade no modelo"
   ]
  },
  {
   "cell_type": "code",
   "execution_count": null,
   "id": "11cb256f-d228-4c20-8257-618efd889552",
   "metadata": {},
   "outputs": [],
   "source": [
    "indicadores_agrupados"
   ]
  },
  {
   "cell_type": "code",
   "execution_count": null,
   "id": "e9d50cec-f8bf-47b1-8b18-15b775aa10b0",
   "metadata": {},
   "outputs": [],
   "source": [
    "# incidencia_mensal = rj_epilepsia[rj_epilepsia[\"proximo_medicamento\"]==\"Início\"]\n",
    "# incidencia_medicamento = incidencia_mensal[\"procedimento_principal_unico\"].value_counts().reset_index()\n",
    "# incidencia_medicamento.columns = [\"procedimento_principal_unico\", \"contagem\"]\n",
    "# incidencia_medicamento\n",
    "transicoes"
   ]
  },
  {
   "cell_type": "code",
   "execution_count": null,
   "id": "e0548836-3634-4a85-90f7-9ac2bcdd7b17",
   "metadata": {},
   "outputs": [],
   "source": [
    "# mortalidade_epilepsia = 319.617/17463349\n",
    "# morbidade_epilepsia = 3510 / 17463349\n",
    "# matriz_transicao_estados[\"mortalidade\"] = matriz_transicao_estados[\"Fora do Tratamento\"] * mortalidade_epilepsia\n",
    "# matriz_transicao_estados[\"Fora do Tratamento\"] = matriz_transicao_estados[\"Fora do Tratamento\"] - matriz_transicao_estados[\"mortalidade\"]\n",
    "# matriz_transicao_estados\n",
    "# transicoes\n",
    "transicoes = transicoes.drop(columns=[\"Em Tratamento\"], axis=1)\n",
    "\n",
    "# p_mortalidade\n",
    "# transicoes\n",
    "transicoes[\"Mortalidade\"] = (transicoes[\"Saída\"] * p_mortalidade).round()\n",
    "# transicoes[\"Saída\"] = \n",
    "transicoes[\"Saída\"] = transicoes[\"Saída\"] - transicoes[\"Mortalidade\"] "
   ]
  },
  {
   "cell_type": "code",
   "execution_count": null,
   "id": "f8122382-fd2a-461e-9dab-c8b75200be3e",
   "metadata": {},
   "outputs": [],
   "source": [
    "transicoes.to_csv('../Dados/Base atualizada/matriz_transicoes_com_mortalidade.csv', sep =';')\n",
    "transicoes"
   ]
  },
  {
   "cell_type": "code",
   "execution_count": null,
   "id": "0de29385-6e0f-4c98-b21a-70fa36ebb690",
   "metadata": {},
   "outputs": [],
   "source": [
    "matriz_transicao_estados = transicoes.div(transicoes.sum(axis=1), axis=0)\n",
    "matriz_transicao_estados.to_csv('../Dados/Base atualizada/matriz_transicoes_probabilidades.csv', sep =';')\n",
    "matriz_transicao_estados"
   ]
  },
  {
   "cell_type": "markdown",
   "id": "6cf28fbd-0b69-4cc1-97eb-77222f1d33f6",
   "metadata": {
    "jp-MarkdownHeadingCollapsed": true
   },
   "source": [
    "### Executar o modelo com ciclos de 1 mês até 5 anos"
   ]
  },
  {
   "cell_type": "code",
   "execution_count": null,
   "id": "9f1360ec-1397-4f08-857c-e057e12f7c24",
   "metadata": {},
   "outputs": [],
   "source": [
    "#Total de Pacientes no data frame\n",
    "rj_epilepsia_total[\"numero_cns_paciente\"].nunique()"
   ]
  },
  {
   "cell_type": "code",
   "execution_count": null,
   "id": "30d82285-e6f4-49fc-a601-37f138463224",
   "metadata": {},
   "outputs": [],
   "source": [
    "#Verificar os pacientes que retiraram até outubro, novembro e dezembro de 2024 e incluir como população inicial\n",
    "# rj_epilepsia_inicio_modelo = rj_epilepsia_total\n",
    "# rj_epilepsia_total.columns\n",
    "# rj_epilepsia_total[\"data_atendimento\"]\n",
    "# pd.to_datetime(rj_epilepsia['data_atendimento_paciente'], format='%Y%m')\n",
    "# rj_epilepsia_total['data_atendimento'] > '2023-09-30'\n",
    "data_inicio_avaliacao = '2023-09-30'\n",
    "#Selecionando as colunas e pacientes\n",
    "rj_epilepsia_inicio_modelo = rj_epilepsia_total.loc[:,\n",
    "                                      [\"data_atendimento\",\n",
    "                                        \"numero_cns_paciente\",\n",
    "                                        \"procedimento_principal_unico\",\n",
    "                                        \"idade_decimal\",\n",
    "                                        \"sexo_paciente\",\n",
    "                                        \"cid_principal\"\n",
    "                                       ]]\n",
    "#Filtrando por data dos últimos dias de dispensação\n",
    "print(len(rj_epilepsia_inicio_modelo[\"numero_cns_paciente\"]))\n",
    "rj_epilepsia_inicio_modelo = rj_epilepsia_inicio_modelo[rj_epilepsia_inicio_modelo[\"data_atendimento\"] > data_inicio_avaliacao]\n",
    "\n",
    "#Ordenando o dataset\n",
    "rj_epilepsia_inicio_modelo = rj_epilepsia_inicio_modelo.sort_values(by=[\"numero_cns_paciente\",\"data_atendimento\"])\n",
    "print(len(rj_epilepsia_inicio_modelo[\"numero_cns_paciente\"]))\n",
    "\n",
    "#Excluindo as duplicatas\n",
    "rj_epilepsia_inicio_modelo = rj_epilepsia_inicio_modelo.drop_duplicates(subset=['numero_cns_paciente'], keep='last')\n",
    "print(len(rj_epilepsia_inicio_modelo[\"numero_cns_paciente\"]))"
   ]
  },
  {
   "cell_type": "markdown",
   "id": "79f07cb6-7f7c-4f23-b1c4-ecf97f7a2d0a",
   "metadata": {
    "jp-MarkdownHeadingCollapsed": true
   },
   "source": [
    "# Execução do Modelo"
   ]
  },
  {
   "cell_type": "code",
   "execution_count": null,
   "id": "3a466a9a-810d-4298-879a-787787261732",
   "metadata": {},
   "outputs": [],
   "source": [
    "matriz_transicao_estados"
   ]
  },
  {
   "cell_type": "code",
   "execution_count": null,
   "id": "8fbf183d-f0ec-474e-aec4-02f85403dda4",
   "metadata": {},
   "outputs": [],
   "source": [
    "rj_epilepsia_inicio_modelo"
   ]
  },
  {
   "cell_type": "code",
   "execution_count": null,
   "id": "45cdeb2b-c89a-4ed0-b47b-8cb4497464d8",
   "metadata": {},
   "outputs": [],
   "source": [
    "rj_epilepsia_novos"
   ]
  },
  {
   "cell_type": "code",
   "execution_count": null,
   "id": "f2c70bb9-a578-4f97-817e-11e836f5027b",
   "metadata": {},
   "outputs": [],
   "source": [
    "#Experimentando o modelo\n",
    "# rj_epilepsia_novos[rj_epilepsia_novos[\"procedimento_principal_unico\"]==\"Lamotrigina\"][\"idade_decimal\"]\n",
    "# media_idade_entrada = rj_epilepsia_novos[\"idade_decimal\"].mean()\n",
    "# desvio_padrao_entrada = rj_epilepsia_novos[\"idade_decimal\"].std()\n",
    "# moda_entrada\n"
   ]
  },
  {
   "cell_type": "code",
   "execution_count": null,
   "id": "36e6d573-5b32-4516-8473-6971ad91b8fd",
   "metadata": {},
   "outputs": [],
   "source": [
    "#Verificando qual modelo se aplica melhor para a distribuição de idade\n",
    "\n",
    "import numpy as np\n",
    "import pandas as pd\n",
    "import matplotlib.pyplot as plt\n",
    "from scipy.stats import norm, expon, gamma, lognorm, beta, weibull_min\n",
    "\n",
    "# Exemplo de dataframe fictício de pacientes\n",
    "np.random.seed(42)\n",
    "data = {\n",
    "    'patient_id': rj_epilepsia_novos['numero_cns_paciente'],\n",
    "    'age': rj_epilepsia_novos['idade_decimal'],\n",
    "    'medication': rj_epilepsia_novos['procedimento_principal_unico']\n",
    "}\n",
    "df = pd.DataFrame(data)\n",
    "\n",
    "# Definir distribuições a serem ajustadas\n",
    "distributions = [norm, expon, gamma, lognorm, beta, weibull_min]\n",
    "\n",
    "# Função para ajustar distribuições e calcular o erro quadrático médio (RMSE)\n",
    "def fit_distribution(data, dist):\n",
    "    params = dist.fit(data)\n",
    "    hist, bin_edges = np.histogram(data, bins=30, density=True)\n",
    "    bin_centers = (bin_edges[:-1] + bin_edges[1:]) / 2\n",
    "    fitted_pdf = dist.pdf(bin_centers, *params[:-2], loc=params[-2], scale=params[-1])\n",
    "    rmse = np.sqrt(np.mean((hist - fitted_pdf) ** 2))\n",
    "    return params, rmse\n",
    "\n",
    "# Ajustar distribuições e calcular RMSE\n",
    "results = {}\n",
    "for distribution in distributions:\n",
    "    params, rmse = fit_distribution(df['age'], distribution)\n",
    "    results[distribution.name] = (params, rmse)\n",
    "\n",
    "# Mostrar resultados\n",
    "for dist_name, (params, rmse) in results.items():\n",
    "    print(f\"{dist_name}: RMSE={rmse}\")\n",
    "\n",
    "# Escolher a distribuição com o menor RMSE\n",
    "best_fit = min(results, key=lambda x: results[x][1])\n",
    "best_dist = [dist for dist in distributions if dist.name == best_fit][0]\n",
    "best_params = results[best_fit][0]\n",
    "\n",
    "print(f\"\\nMelhor ajuste: {best_fit} com RMSE={results[best_fit][1]}\")\n",
    "\n",
    "# Plotar a distribuição ajustada\n",
    "x = np.linspace(df['age'].min(), df['age'].max(), 100)\n",
    "pdf_fitted = best_dist.pdf(x, *best_params[:-2], loc=best_params[-2], scale=best_params[-1])\n",
    "\n",
    "plt.hist(df['age'], bins=15, density=True, alpha=0.7, edgecolor='k', label='Dados')\n",
    "plt.plot(x, pdf_fitted, label=f'{best_fit} ajuste', color='red')\n",
    "plt.title(f'Distribuição de Idades com Ajuste {best_fit}')\n",
    "plt.xlabel('Idade')\n",
    "plt.ylabel('Frequência')\n",
    "plt.legend()\n",
    "plt.show()\n",
    "\n",
    "# Gerar amostras a partir da distribuição melhor ajustada\n",
    "num_samples = 1000\n",
    "samples = best_dist.rvs(*best_params[:-2], loc=best_params[-2], scale=best_params[-1], size=num_samples)\n",
    "\n",
    "# Visualizar as amostras geradas\n",
    "plt.hist(samples, bins=15, density=True, alpha=0.7, edgecolor='k', label='Amostras geradas')\n",
    "plt.plot(x, pdf_fitted, label=f'{best_fit} ajuste', color='red')\n",
    "plt.title('Amostras Geradas da Distribuição Melhor Ajustada')\n",
    "plt.xlabel('Idade')\n",
    "plt.ylabel('Frequência')\n",
    "plt.legend()\n",
    "plt.show()"
   ]
  },
  {
   "cell_type": "code",
   "execution_count": null,
   "id": "1903e2c1-c504-4740-bbf8-17ba9e1cf142",
   "metadata": {},
   "outputs": [],
   "source": [
    "p_mulheres = rj_epilepsia_novos[rj_epilepsia_novos[\"sexo_paciente\"]==\"M\"][\"sexo_paciente\"].count()\n",
    "p_mulheres = p_mulheres / rj_epilepsia_novos[\"sexo_paciente\"].count()\n",
    "p_mulheres"
   ]
  },
  {
   "cell_type": "markdown",
   "id": "c376279d",
   "metadata": {},
   "source": [
    "# Ajusta da matriz de transição"
   ]
  },
  {
   "cell_type": "code",
   "execution_count": null,
   "id": "f8184f0f-063d-4832-ba51-f78a953cf700",
   "metadata": {},
   "outputs": [],
   "source": [
    "matriz_transicao_estados = transicoes.div(transicoes.sum(axis=1), axis=0)\n",
    "matriz_transicao_estados[\"Canabidiol\"] = 0\n",
    "matriz_transicao_estados.loc[\"Canabidiol\", : ] = 0\n",
    "ordem_colunas = [\"Gabapentina\", \"Lamotrigina\", \"Levetiracetam\", \"Topiramato\", \"Vigabatrina\", \"Canabidiol\", \"Fora do Tratamento\", \"Saída\", \"Mortalidade\", \"Início\"]\n",
    "matriz_transicao_estados = matriz_transicao_estados[ordem_colunas]\n",
    "matriz_transicao_estados"
   ]
  },
  {
   "cell_type": "code",
   "execution_count": null,
   "id": "4a963886",
   "metadata": {},
   "outputs": [],
   "source": [
    "fora_do_tratamento = list(matriz_transicao_estados[\"Fora do Tratamento\"])\n",
    "fora_do_tratamento = fora_do_tratamento + [0] * 4\n",
    "matriz_transicao_estados.loc[\"Fora do Tratamento\", :] = fora_do_tratamento\n",
    "matriz_transicao_estados"
   ]
  },
  {
   "cell_type": "code",
   "execution_count": null,
   "id": "85e7eeaa",
   "metadata": {},
   "outputs": [],
   "source": [
    "p_fora_do_tratamento = 1 - matriz_transicao_estados.loc[\"Fora do Tratamento\",:].sum()\n",
    "matriz_transicao_estados.loc[\"Fora do Tratamento\",\"Fora do Tratamento\"] = p_fora_do_tratamento\n",
    "matriz_transicao_estados"
   ]
  },
  {
   "cell_type": "code",
   "execution_count": null,
   "id": "a2410f12",
   "metadata": {},
   "outputs": [],
   "source": [
    "saida = [0] * len(matriz_transicao_estados.columns)\n",
    "matriz_transicao_estados.loc[\"Saída\", :] = saida\n",
    "matriz_transicao_estados"
   ]
  },
  {
   "cell_type": "code",
   "execution_count": null,
   "id": "75767715",
   "metadata": {},
   "outputs": [],
   "source": [
    "mortalidade = [0] * len(matriz_transicao_estados.columns)\n",
    "matriz_transicao_estados.loc[\"Mortalidade\", :] = mortalidade\n",
    "matriz_transicao_estados\n"
   ]
  },
  {
   "cell_type": "code",
   "execution_count": null,
   "id": "45363785",
   "metadata": {},
   "outputs": [],
   "source": [
    "taxa_difusao = [[0.1, 0.2, 0.3, 0.4, 0.5 ],[ 0.25, 0.4, 0.55, 0.70, 0.85 ]]\n",
    "p_canabidiol_inicio = [.3,.2 ]\n",
    "\n",
    "p_canabidiol_ajustado = p_canabidiol_inicio[0] * taxa_difusao[0][0]\n",
    "\n",
    "incidencia_medicamento = matriz_transicao_estados[[\"Início\"]]\n",
    "incidencia_medicamento = incidencia_medicamento.div(incidencia_medicamento.sum(axis=0), axis=1)\n",
    "incidencia_medicamento = incidencia_medicamento * (1.0 - p_canabidiol_ajustado)\n",
    "incidencia_medicamento.loc[\"Canabidiol\"] = p_canabidiol_ajustado\n",
    "incidencia_medicamento"
   ]
  },
  {
   "cell_type": "code",
   "execution_count": null,
   "id": "bb7a0cdf",
   "metadata": {},
   "outputs": [],
   "source": [
    "inicio = list(incidencia_medicamento[\"Início\"]) + [0]\n",
    "inicio\n",
    "matriz_transicao_estados.loc[\"Início\", :] = inicio\n",
    "matriz_transicao_estados"
   ]
  },
  {
   "cell_type": "code",
   "execution_count": null,
   "id": "93df7898",
   "metadata": {},
   "outputs": [],
   "source": [
    "matriz_transicao_estados.loc[:, matriz_transicao_estados.columns != \"Canabidiol\"] *= 1 - p_canabidiol_ajustado\n"
   ]
  },
  {
   "cell_type": "code",
   "execution_count": null,
   "id": "8b7d7166",
   "metadata": {},
   "outputs": [],
   "source": [
    "matriz_transicao_estados[\"Canabidiol\"] = p_canabidiol_ajustado"
   ]
  },
  {
   "cell_type": "code",
   "execution_count": null,
   "id": "63cfc3ad",
   "metadata": {},
   "outputs": [],
   "source": [
    "# matriz_transicao_estados\n",
    "matriz_transicao_estados = matriz_transicao_estados.div(matriz_transicao_estados.sum(axis=1), axis=0)"
   ]
  },
  {
   "cell_type": "code",
   "execution_count": null,
   "id": "6fc0f15f",
   "metadata": {},
   "outputs": [],
   "source": [
    "def gerar_numero_aleatorio():\n",
    "    return str(np.random.randint(10**5, 10**6))"
   ]
  },
  {
   "cell_type": "code",
   "execution_count": null,
   "id": "adca6495",
   "metadata": {},
   "outputs": [],
   "source": [
    "rj_epilepsia_novos = rj_epilepsia_novos.loc[:,[\"numero_cns_paciente\", \"procedimento_principal_unico\", \"idade_decimal\", \"sexo_paciente\", \"cid_principal\"]]\n",
    "rj_epilepsia_novos[\"tempo\"] = 0\n",
    "rj_epilepsia_novos['numero_cns_paciente'] = rj_epilepsia_novos['numero_cns_paciente'].apply(lambda x: gerar_numero_aleatorio())\n",
    "rj_epilepsia_novos[\"estado\"] = \"Início\"\n",
    "rj_epilepsia_novos"
   ]
  },
  {
   "cell_type": "code",
   "execution_count": null,
   "id": "493a83ee",
   "metadata": {},
   "outputs": [],
   "source": [
    "rj_epilepsia_inicio_modelo = rj_epilepsia_inicio_modelo.loc[:, [\"numero_cns_paciente\", \"procedimento_principal_unico\", \"idade_decimal\", \"sexo_paciente\", \"cid_principal\"]]\n",
    "rj_epilepsia_inicio_modelo[\"tempo\"] = 0\n",
    "rj_epilepsia_inicio_modelo['numero_cns_paciente'] = rj_epilepsia_inicio_modelo['numero_cns_paciente'].apply(lambda x: gerar_numero_aleatorio())\n",
    "rj_epilepsia_inicio_modelo[\"estado\"] = rj_epilepsia_inicio_modelo[\"procedimento_principal_unico\"] \n",
    "rj_epilepsia_inicio_modelo"
   ]
  },
  {
   "cell_type": "code",
   "execution_count": null,
   "id": "aedb95e0",
   "metadata": {},
   "outputs": [],
   "source": [
    "#Inicio do ciclo sortear os pacientes novos de acordo com o numero a media atualizada e desvio padrao de novos pacientes\n",
    "# incidencia = rj_epilepsia[rj_epilepsia[\"proximo_medicamento\"]==\"Início\"].groupby(\"ano_atendimento\")[\"numero_cns_paciente\"].nunique().reset_index()\n",
    "incidencia = rj_epilepsia[rj_epilepsia[\"proximo_medicamento\"]==\"Início\"].groupby(\"data_atendimento\")[\"numero_cns_paciente\"].nunique().reset_index()\n",
    "incidencia_media = incidencia[\"numero_cns_paciente\"].mean() * 3\n",
    "incidencia_dp = incidencia[\"numero_cns_paciente\"].std() * 3 "
   ]
  },
  {
   "cell_type": "code",
   "execution_count": null,
   "id": "0dba9901",
   "metadata": {},
   "outputs": [],
   "source": [
    "matriz_transicao_estados"
   ]
  },
  {
   "cell_type": "code",
   "execution_count": null,
   "id": "567d3288",
   "metadata": {},
   "outputs": [],
   "source": [
    "def sortear_estado(estado, matriz_transicao_estados):\n",
    "    novo_estado = np.random.choice(matriz_transicao_estados.columns, p=matriz_transicao_estados.loc[estado, :])\n",
    "    return novo_estado"
   ]
  },
  {
   "cell_type": "code",
   "execution_count": null,
   "id": "883cf436",
   "metadata": {},
   "outputs": [],
   "source": [
    "# Sorteando os pacientes do primeiro ciclo\n",
    "np.random.seed(42)\n",
    "rj_epilepsia_inicio_modelo[\"tempo\"] = 0\n",
    "coorte = rj_epilepsia_inicio_modelo\n",
    "salvamento = rj_epilepsia_inicio_modelo\n",
    "ciclos = 20\n",
    "print(len(coorte))\n",
    "for j in range(1):\n",
    "    for i in range(ciclos):\n",
    "        sorteio_geral = round(np.random.normal(incidencia_media, incidencia_dp))\n",
    "        sorteio_geral = max(sorteio_geral, 1)\n",
    "        novos_pacientes_ciclo = rj_epilepsia_novos.sample(sorteio_geral)\n",
    "        novos_pacientes_ciclo[\"tempo\"] = i + 1\n",
    "        novos_pacientes_ciclo['numero_cns_paciente'] = novos_pacientes_ciclo['numero_cns_paciente'].apply(lambda x: gerar_numero_aleatorio())\n",
    "        novos_pacientes_ciclo[\"estado\"] = novos_pacientes_ciclo[\"procedimento_principal_unico\"].apply(lambda x: sortear_estado(\"Início\",  matriz_transicao_estados))\n",
    "        transicao_pacientes_ciclo = coorte.loc[coorte[\"tempo\"]==i]\n",
    "        transicao_pacientes_ciclo[\"estado\"] = transicao_pacientes_ciclo[\"estado\"].apply(lambda x: sortear_estado(x,  matriz_transicao_estados))\n",
    "        transicao_pacientes_ciclo[\"tempo\"] = i + 1\n",
    "        print(len(coorte), len(transicao_pacientes_ciclo), len(novos_pacientes_ciclo))\n",
    "        coorte = pd.concat([coorte, novos_pacientes_ciclo], ignore_index=True)\n",
    "        coorte = pd.concat([coorte, transicao_pacientes_ciclo], ignore_index=True)\n",
    "    canabidiol = coorte[coorte[\"estado\"]==\"Canabidiol\"]\n",
    "    #calcular valor dispensado no ciclo\n",
    "    #total de 1 ano x valor de 1ano \n"
   ]
  },
  {
   "cell_type": "code",
   "execution_count": null,
   "id": "727c4c03",
   "metadata": {},
   "outputs": [],
   "source": [
    "rj_epilepsia_inicio_modelo[\"estado\"].value_counts()"
   ]
  },
  {
   "cell_type": "code",
   "execution_count": null,
   "id": "eb8b4e34",
   "metadata": {},
   "outputs": [],
   "source": [
    "coorte[\"estado\"].value_counts()\n",
    "# coorte.loc[coorte[\"tempo\"]==2][\"estado\"].value_counts()"
   ]
  },
  {
   "cell_type": "code",
   "execution_count": null,
   "id": "7d5db3a6",
   "metadata": {},
   "outputs": [],
   "source": [
    "canabidiol = coorte[coorte[\"estado\"]==\"Canabidiol\"]\n",
    "canabidiol[\"idade_decimal\"].value_counts().sort_values(ascending=False)"
   ]
  }
 ],
 "metadata": {
  "kernelspec": {
   "display_name": "Python 3 (ipykernel)",
   "language": "python",
   "name": "python3"
  },
  "language_info": {
   "codemirror_mode": {
    "name": "ipython",
    "version": 3
   },
   "file_extension": ".py",
   "mimetype": "text/x-python",
   "name": "python",
   "nbconvert_exporter": "python",
   "pygments_lexer": "ipython3",
   "version": "3.12.2"
  }
 },
 "nbformat": 4,
 "nbformat_minor": 5
}
