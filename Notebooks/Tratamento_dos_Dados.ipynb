{
  "nbformat": 4,
  "nbformat_minor": 0,
  "metadata": {
    "colab": {
      "provenance": [],
      "collapsed_sections": [
        "cBchulIOrbCW"
      ]
    },
    "kernelspec": {
      "name": "python3",
      "display_name": "Python 3"
    },
    "language_info": {
      "name": "python"
    }
  },
  "cells": [
    {
      "cell_type": "markdown",
      "source": [
        "# Importando as Bases"
      ],
      "metadata": {
        "id": "cBchulIOrbCW"
      }
    },
    {
      "cell_type": "code",
      "execution_count": 3,
      "metadata": {
        "id": "rbo2R_Bajnku"
      },
      "outputs": [],
      "source": [
        "import pandas as pd"
      ]
    },
    {
      "cell_type": "code",
      "source": [
        "rj_epilepsia_2015 = pd.read_csv('/content/rj_epilepsia_2015.csv', sep = ',', encoding='latin-1')\n",
        "rj_epilepsia_2015"
      ],
      "metadata": {
        "id": "wIq2H9DMj7Ym"
      },
      "execution_count": null,
      "outputs": []
    },
    {
      "cell_type": "code",
      "source": [
        "rj_epilepsia_2016 = pd.read_csv('/content/rj_epilepsia_2016.csv', sep = ',', encoding='latin-1')\n",
        "rj_epilepsia_2016"
      ],
      "metadata": {
        "id": "Hsd8f9ILkGen"
      },
      "execution_count": null,
      "outputs": []
    },
    {
      "cell_type": "code",
      "source": [
        "rj_epilepsia_2017 = pd.read_csv('/content/rj_epilepsia_2017.csv', sep = ',', encoding='latin-1')\n",
        "rj_epilepsia_2017"
      ],
      "metadata": {
        "id": "fmEWUSayllIu"
      },
      "execution_count": null,
      "outputs": []
    },
    {
      "cell_type": "code",
      "source": [
        "rj_epilepsia_2018 = pd.read_csv('/content/rj_epilepsia_2018.csv', sep = ',', encoding='latin-1')\n",
        "rj_epilepsia_2018"
      ],
      "metadata": {
        "id": "CLJM1EVDsZ2V"
      },
      "execution_count": null,
      "outputs": []
    },
    {
      "cell_type": "code",
      "source": [
        "rj_epilepsia_2019 = pd.read_csv('/content/rj_epilepsia_2019.csv', sep = ',', encoding='latin-1')\n",
        "rj_epilepsia_2019"
      ],
      "metadata": {
        "id": "YLA1c67dsaNH"
      },
      "execution_count": null,
      "outputs": []
    },
    {
      "cell_type": "code",
      "source": [
        "rj_epilepsia_2020 = pd.read_csv('/content/rj_epilepsia_2020.csv', sep = ',', encoding='latin-1')\n",
        "rj_epilepsia_2020"
      ],
      "metadata": {
        "id": "k5KitKdesahB"
      },
      "execution_count": null,
      "outputs": []
    },
    {
      "cell_type": "code",
      "source": [
        "rj_epilepsia_2021 = pd.read_csv('/content/rj_epilepsia_2021.csv', sep = ',', encoding='latin-1')\n",
        "rj_epilepsia_2021"
      ],
      "metadata": {
        "id": "BntAFtaUsazF"
      },
      "execution_count": null,
      "outputs": []
    },
    {
      "cell_type": "code",
      "source": [
        "rj_epilepsia_2022 = pd.read_csv('/content/rj_epilepsia_2022.csv', sep = ',', encoding='latin-1')\n",
        "rj_epilepsia_2022"
      ],
      "metadata": {
        "id": "CfM0odTcsbBd"
      },
      "execution_count": null,
      "outputs": []
    },
    {
      "cell_type": "code",
      "source": [],
      "metadata": {
        "id": "sOXEXjsPsbcF"
      },
      "execution_count": 11,
      "outputs": []
    },
    {
      "cell_type": "markdown",
      "source": [
        "# Concatenando, Refazendo o Indice e exportando"
      ],
      "metadata": {
        "id": "Aajy-NoSsy4a"
      }
    },
    {
      "cell_type": "code",
      "source": [
        "rj_epilepsia_total = pd.concat([rj_epilepsia_2015, rj_epilepsia_2016, rj_epilepsia_2017, rj_epilepsia_2018, rj_epilepsia_2019, rj_epilepsia_2020, rj_epilepsia_2021, rj_epilepsia_2022], axis=0)\n",
        "rj_epilepsia_total"
      ],
      "metadata": {
        "id": "0pu74TZds5nC"
      },
      "execution_count": null,
      "outputs": []
    },
    {
      "cell_type": "code",
      "source": [
        "rj_epilepsia_total.index = range(rj_epilepsia_total.shape[0])\n",
        "rj_epilepsia_total"
      ],
      "metadata": {
        "id": "25CshCtntpgc"
      },
      "execution_count": null,
      "outputs": []
    },
    {
      "cell_type": "code",
      "source": [
        "rj_epilepsia_total.to_csv('/content/rj_epilepsia_total.csv', sep =';')"
      ],
      "metadata": {
        "id": "umTv2_gxudgV"
      },
      "execution_count": 14,
      "outputs": []
    },
    {
      "cell_type": "markdown",
      "source": [],
      "metadata": {
        "id": "WmVNkUSIhMJC"
      }
    },
    {
      "cell_type": "markdown",
      "source": [
        "# Análise Exploratória"
      ],
      "metadata": {
        "id": "gOyBP7k3hPGN"
      }
    },
    {
      "cell_type": "markdown",
      "source": [
        "## Por sexo"
      ],
      "metadata": {
        "id": "d6x7Yx1CiYEz"
      }
    },
    {
      "cell_type": "markdown",
      "source": [
        "### Feminino"
      ],
      "metadata": {
        "id": "Eu-xgN0rnT26"
      }
    },
    {
      "cell_type": "code",
      "source": [
        "sexo = ['F']\n",
        "selecao = rj_epilepsia_total['AP_SEXO'].isin(sexo)"
      ],
      "metadata": {
        "id": "mkyyIT6flTjn"
      },
      "execution_count": 36,
      "outputs": []
    },
    {
      "cell_type": "code",
      "source": [
        "sexo_fem = rj_epilepsia_total[selecao]\n",
        "sexo_fem"
      ],
      "metadata": {
        "id": "weZmeRQZnJRM"
      },
      "execution_count": null,
      "outputs": []
    },
    {
      "cell_type": "code",
      "source": [
        "sexo_fem.index = range(sexo_fem.shape[0])\n",
        "sexo_fem"
      ],
      "metadata": {
        "id": "xuP4IQE8nLaE"
      },
      "execution_count": null,
      "outputs": []
    },
    {
      "cell_type": "markdown",
      "source": [
        "### Masculino"
      ],
      "metadata": {
        "id": "a6mkkKWinXsv"
      }
    },
    {
      "cell_type": "code",
      "source": [
        "sexo = ['M']\n",
        "selecao = rj_epilepsia_total['AP_SEXO'].isin(sexo)"
      ],
      "metadata": {
        "id": "NBo0Hpb6mEUw"
      },
      "execution_count": 40,
      "outputs": []
    },
    {
      "cell_type": "code",
      "source": [
        "sexo_masc = rj_epilepsia_total[selecao]\n",
        "sexo_masc"
      ],
      "metadata": {
        "id": "xPro1TY7niwp"
      },
      "execution_count": null,
      "outputs": []
    },
    {
      "cell_type": "code",
      "source": [
        "sexo_masc.index = range(sexo_masc.shape[0])\n",
        "sexo_masc"
      ],
      "metadata": {
        "id": "A6E2R0YBnmC5"
      },
      "execution_count": null,
      "outputs": []
    },
    {
      "cell_type": "markdown",
      "source": [
        "### Groupby"
      ],
      "metadata": {
        "id": "gp4dASQDnpoA"
      }
    },
    {
      "cell_type": "code",
      "source": [
        "# O que ta acontecendo?????????? (aparentemente somou tudo)\n",
        "\n",
        "sexo_total = rj_epilepsia_total.groupby('AP_SEXO').count()\n",
        "sexo_total"
      ],
      "metadata": {
        "colab": {
          "base_uri": "https://localhost:8080/",
          "height": 237
        },
        "id": "-2FBnPLDicEQ",
        "outputId": "996ca8ae-cad3-432b-b9f6-a25184270723"
      },
      "execution_count": 43,
      "outputs": [
        {
          "output_type": "execute_result",
          "data": {
            "text/plain": [
              "         AP_MVM  AP_CONDIC  AP_GESTAO  AP_CODUNI  AP_AUTORIZ  AP_CMP  \\\n",
              "AP_SEXO                                                                \n",
              "F         37981      37981      37981      37981       37981   37981   \n",
              "M         32575      32575      32575      32575       32575   32575   \n",
              "\n",
              "         AP_PRIPAL  AP_VL_AP  AP_UFMUN  AP_TPUPS  ...  AP_CIDCAS  AP_CIDPRI  \\\n",
              "AP_SEXO                                           ...                         \n",
              "F            37981     37981     37981     37981  ...      37981      37981   \n",
              "M            32575     32575     32575     32575  ...      32575      32575   \n",
              "\n",
              "         AP_CIDSEC  AP_ETNIA  AM_PESO  AM_ALTURA  AM_TRANSPL  AM_QTDTRAN  \\\n",
              "AP_SEXO                                                                    \n",
              "F            37981         0    37981      37981       37981       37981   \n",
              "M            32575         0    32575      32575       32575       32575   \n",
              "\n",
              "         AM_GESTANT  AP_NATJUR  \n",
              "AP_SEXO                         \n",
              "F             37981      24206  \n",
              "M             32575      21304  \n",
              "\n",
              "[2 rows x 50 columns]"
            ],
            "text/html": [
              "\n",
              "  <div id=\"df-8ecfd099-b82a-4023-8883-c316d0a28d8e\">\n",
              "    <div class=\"colab-df-container\">\n",
              "      <div>\n",
              "<style scoped>\n",
              "    .dataframe tbody tr th:only-of-type {\n",
              "        vertical-align: middle;\n",
              "    }\n",
              "\n",
              "    .dataframe tbody tr th {\n",
              "        vertical-align: top;\n",
              "    }\n",
              "\n",
              "    .dataframe thead th {\n",
              "        text-align: right;\n",
              "    }\n",
              "</style>\n",
              "<table border=\"1\" class=\"dataframe\">\n",
              "  <thead>\n",
              "    <tr style=\"text-align: right;\">\n",
              "      <th></th>\n",
              "      <th>AP_MVM</th>\n",
              "      <th>AP_CONDIC</th>\n",
              "      <th>AP_GESTAO</th>\n",
              "      <th>AP_CODUNI</th>\n",
              "      <th>AP_AUTORIZ</th>\n",
              "      <th>AP_CMP</th>\n",
              "      <th>AP_PRIPAL</th>\n",
              "      <th>AP_VL_AP</th>\n",
              "      <th>AP_UFMUN</th>\n",
              "      <th>AP_TPUPS</th>\n",
              "      <th>...</th>\n",
              "      <th>AP_CIDCAS</th>\n",
              "      <th>AP_CIDPRI</th>\n",
              "      <th>AP_CIDSEC</th>\n",
              "      <th>AP_ETNIA</th>\n",
              "      <th>AM_PESO</th>\n",
              "      <th>AM_ALTURA</th>\n",
              "      <th>AM_TRANSPL</th>\n",
              "      <th>AM_QTDTRAN</th>\n",
              "      <th>AM_GESTANT</th>\n",
              "      <th>AP_NATJUR</th>\n",
              "    </tr>\n",
              "    <tr>\n",
              "      <th>AP_SEXO</th>\n",
              "      <th></th>\n",
              "      <th></th>\n",
              "      <th></th>\n",
              "      <th></th>\n",
              "      <th></th>\n",
              "      <th></th>\n",
              "      <th></th>\n",
              "      <th></th>\n",
              "      <th></th>\n",
              "      <th></th>\n",
              "      <th></th>\n",
              "      <th></th>\n",
              "      <th></th>\n",
              "      <th></th>\n",
              "      <th></th>\n",
              "      <th></th>\n",
              "      <th></th>\n",
              "      <th></th>\n",
              "      <th></th>\n",
              "      <th></th>\n",
              "      <th></th>\n",
              "    </tr>\n",
              "  </thead>\n",
              "  <tbody>\n",
              "    <tr>\n",
              "      <th>F</th>\n",
              "      <td>37981</td>\n",
              "      <td>37981</td>\n",
              "      <td>37981</td>\n",
              "      <td>37981</td>\n",
              "      <td>37981</td>\n",
              "      <td>37981</td>\n",
              "      <td>37981</td>\n",
              "      <td>37981</td>\n",
              "      <td>37981</td>\n",
              "      <td>37981</td>\n",
              "      <td>...</td>\n",
              "      <td>37981</td>\n",
              "      <td>37981</td>\n",
              "      <td>37981</td>\n",
              "      <td>0</td>\n",
              "      <td>37981</td>\n",
              "      <td>37981</td>\n",
              "      <td>37981</td>\n",
              "      <td>37981</td>\n",
              "      <td>37981</td>\n",
              "      <td>24206</td>\n",
              "    </tr>\n",
              "    <tr>\n",
              "      <th>M</th>\n",
              "      <td>32575</td>\n",
              "      <td>32575</td>\n",
              "      <td>32575</td>\n",
              "      <td>32575</td>\n",
              "      <td>32575</td>\n",
              "      <td>32575</td>\n",
              "      <td>32575</td>\n",
              "      <td>32575</td>\n",
              "      <td>32575</td>\n",
              "      <td>32575</td>\n",
              "      <td>...</td>\n",
              "      <td>32575</td>\n",
              "      <td>32575</td>\n",
              "      <td>32575</td>\n",
              "      <td>0</td>\n",
              "      <td>32575</td>\n",
              "      <td>32575</td>\n",
              "      <td>32575</td>\n",
              "      <td>32575</td>\n",
              "      <td>32575</td>\n",
              "      <td>21304</td>\n",
              "    </tr>\n",
              "  </tbody>\n",
              "</table>\n",
              "<p>2 rows × 50 columns</p>\n",
              "</div>\n",
              "      <button class=\"colab-df-convert\" onclick=\"convertToInteractive('df-8ecfd099-b82a-4023-8883-c316d0a28d8e')\"\n",
              "              title=\"Convert this dataframe to an interactive table.\"\n",
              "              style=\"display:none;\">\n",
              "        \n",
              "  <svg xmlns=\"http://www.w3.org/2000/svg\" height=\"24px\"viewBox=\"0 0 24 24\"\n",
              "       width=\"24px\">\n",
              "    <path d=\"M0 0h24v24H0V0z\" fill=\"none\"/>\n",
              "    <path d=\"M18.56 5.44l.94 2.06.94-2.06 2.06-.94-2.06-.94-.94-2.06-.94 2.06-2.06.94zm-11 1L8.5 8.5l.94-2.06 2.06-.94-2.06-.94L8.5 2.5l-.94 2.06-2.06.94zm10 10l.94 2.06.94-2.06 2.06-.94-2.06-.94-.94-2.06-.94 2.06-2.06.94z\"/><path d=\"M17.41 7.96l-1.37-1.37c-.4-.4-.92-.59-1.43-.59-.52 0-1.04.2-1.43.59L10.3 9.45l-7.72 7.72c-.78.78-.78 2.05 0 2.83L4 21.41c.39.39.9.59 1.41.59.51 0 1.02-.2 1.41-.59l7.78-7.78 2.81-2.81c.8-.78.8-2.07 0-2.86zM5.41 20L4 18.59l7.72-7.72 1.47 1.35L5.41 20z\"/>\n",
              "  </svg>\n",
              "      </button>\n",
              "      \n",
              "  <style>\n",
              "    .colab-df-container {\n",
              "      display:flex;\n",
              "      flex-wrap:wrap;\n",
              "      gap: 12px;\n",
              "    }\n",
              "\n",
              "    .colab-df-convert {\n",
              "      background-color: #E8F0FE;\n",
              "      border: none;\n",
              "      border-radius: 50%;\n",
              "      cursor: pointer;\n",
              "      display: none;\n",
              "      fill: #1967D2;\n",
              "      height: 32px;\n",
              "      padding: 0 0 0 0;\n",
              "      width: 32px;\n",
              "    }\n",
              "\n",
              "    .colab-df-convert:hover {\n",
              "      background-color: #E2EBFA;\n",
              "      box-shadow: 0px 1px 2px rgba(60, 64, 67, 0.3), 0px 1px 3px 1px rgba(60, 64, 67, 0.15);\n",
              "      fill: #174EA6;\n",
              "    }\n",
              "\n",
              "    [theme=dark] .colab-df-convert {\n",
              "      background-color: #3B4455;\n",
              "      fill: #D2E3FC;\n",
              "    }\n",
              "\n",
              "    [theme=dark] .colab-df-convert:hover {\n",
              "      background-color: #434B5C;\n",
              "      box-shadow: 0px 1px 3px 1px rgba(0, 0, 0, 0.15);\n",
              "      filter: drop-shadow(0px 1px 2px rgba(0, 0, 0, 0.3));\n",
              "      fill: #FFFFFF;\n",
              "    }\n",
              "  </style>\n",
              "\n",
              "      <script>\n",
              "        const buttonEl =\n",
              "          document.querySelector('#df-8ecfd099-b82a-4023-8883-c316d0a28d8e button.colab-df-convert');\n",
              "        buttonEl.style.display =\n",
              "          google.colab.kernel.accessAllowed ? 'block' : 'none';\n",
              "\n",
              "        async function convertToInteractive(key) {\n",
              "          const element = document.querySelector('#df-8ecfd099-b82a-4023-8883-c316d0a28d8e');\n",
              "          const dataTable =\n",
              "            await google.colab.kernel.invokeFunction('convertToInteractive',\n",
              "                                                     [key], {});\n",
              "          if (!dataTable) return;\n",
              "\n",
              "          const docLinkHtml = 'Like what you see? Visit the ' +\n",
              "            '<a target=\"_blank\" href=https://colab.research.google.com/notebooks/data_table.ipynb>data table notebook</a>'\n",
              "            + ' to learn more about interactive tables.';\n",
              "          element.innerHTML = '';\n",
              "          dataTable['output_type'] = 'display_data';\n",
              "          await google.colab.output.renderOutput(dataTable, element);\n",
              "          const docLink = document.createElement('div');\n",
              "          docLink.innerHTML = docLinkHtml;\n",
              "          element.appendChild(docLink);\n",
              "        }\n",
              "      </script>\n",
              "    </div>\n",
              "  </div>\n",
              "  "
            ]
          },
          "metadata": {},
          "execution_count": 43
        }
      ]
    },
    {
      "cell_type": "code",
      "source": [
        "# Aparentemente da certo assim\n",
        "\n",
        "colunas = ['AP_SEXO', 'AP_OBITO']\n",
        "sexooo = rj_epilepsia_total.filter(items=colunas)\n",
        "sexooo"
      ],
      "metadata": {
        "colab": {
          "base_uri": "https://localhost:8080/",
          "height": 424
        },
        "id": "aCxjbjWkiq2y",
        "outputId": "129f5ab3-ec14-44a4-8c48-238771f0fc97"
      },
      "execution_count": 56,
      "outputs": [
        {
          "output_type": "execute_result",
          "data": {
            "text/plain": [
              "      AP_SEXO  AP_OBITO\n",
              "0           F         0\n",
              "1           F         0\n",
              "2           F         0\n",
              "3           F         0\n",
              "4           F         0\n",
              "...       ...       ...\n",
              "70551       F         0\n",
              "70552       F         0\n",
              "70553       F         0\n",
              "70554       F         0\n",
              "70555       F         0\n",
              "\n",
              "[70556 rows x 2 columns]"
            ],
            "text/html": [
              "\n",
              "  <div id=\"df-c58352c3-c01d-4ccc-97a2-5f4a8836b3fd\">\n",
              "    <div class=\"colab-df-container\">\n",
              "      <div>\n",
              "<style scoped>\n",
              "    .dataframe tbody tr th:only-of-type {\n",
              "        vertical-align: middle;\n",
              "    }\n",
              "\n",
              "    .dataframe tbody tr th {\n",
              "        vertical-align: top;\n",
              "    }\n",
              "\n",
              "    .dataframe thead th {\n",
              "        text-align: right;\n",
              "    }\n",
              "</style>\n",
              "<table border=\"1\" class=\"dataframe\">\n",
              "  <thead>\n",
              "    <tr style=\"text-align: right;\">\n",
              "      <th></th>\n",
              "      <th>AP_SEXO</th>\n",
              "      <th>AP_OBITO</th>\n",
              "    </tr>\n",
              "  </thead>\n",
              "  <tbody>\n",
              "    <tr>\n",
              "      <th>0</th>\n",
              "      <td>F</td>\n",
              "      <td>0</td>\n",
              "    </tr>\n",
              "    <tr>\n",
              "      <th>1</th>\n",
              "      <td>F</td>\n",
              "      <td>0</td>\n",
              "    </tr>\n",
              "    <tr>\n",
              "      <th>2</th>\n",
              "      <td>F</td>\n",
              "      <td>0</td>\n",
              "    </tr>\n",
              "    <tr>\n",
              "      <th>3</th>\n",
              "      <td>F</td>\n",
              "      <td>0</td>\n",
              "    </tr>\n",
              "    <tr>\n",
              "      <th>4</th>\n",
              "      <td>F</td>\n",
              "      <td>0</td>\n",
              "    </tr>\n",
              "    <tr>\n",
              "      <th>...</th>\n",
              "      <td>...</td>\n",
              "      <td>...</td>\n",
              "    </tr>\n",
              "    <tr>\n",
              "      <th>70551</th>\n",
              "      <td>F</td>\n",
              "      <td>0</td>\n",
              "    </tr>\n",
              "    <tr>\n",
              "      <th>70552</th>\n",
              "      <td>F</td>\n",
              "      <td>0</td>\n",
              "    </tr>\n",
              "    <tr>\n",
              "      <th>70553</th>\n",
              "      <td>F</td>\n",
              "      <td>0</td>\n",
              "    </tr>\n",
              "    <tr>\n",
              "      <th>70554</th>\n",
              "      <td>F</td>\n",
              "      <td>0</td>\n",
              "    </tr>\n",
              "    <tr>\n",
              "      <th>70555</th>\n",
              "      <td>F</td>\n",
              "      <td>0</td>\n",
              "    </tr>\n",
              "  </tbody>\n",
              "</table>\n",
              "<p>70556 rows × 2 columns</p>\n",
              "</div>\n",
              "      <button class=\"colab-df-convert\" onclick=\"convertToInteractive('df-c58352c3-c01d-4ccc-97a2-5f4a8836b3fd')\"\n",
              "              title=\"Convert this dataframe to an interactive table.\"\n",
              "              style=\"display:none;\">\n",
              "        \n",
              "  <svg xmlns=\"http://www.w3.org/2000/svg\" height=\"24px\"viewBox=\"0 0 24 24\"\n",
              "       width=\"24px\">\n",
              "    <path d=\"M0 0h24v24H0V0z\" fill=\"none\"/>\n",
              "    <path d=\"M18.56 5.44l.94 2.06.94-2.06 2.06-.94-2.06-.94-.94-2.06-.94 2.06-2.06.94zm-11 1L8.5 8.5l.94-2.06 2.06-.94-2.06-.94L8.5 2.5l-.94 2.06-2.06.94zm10 10l.94 2.06.94-2.06 2.06-.94-2.06-.94-.94-2.06-.94 2.06-2.06.94z\"/><path d=\"M17.41 7.96l-1.37-1.37c-.4-.4-.92-.59-1.43-.59-.52 0-1.04.2-1.43.59L10.3 9.45l-7.72 7.72c-.78.78-.78 2.05 0 2.83L4 21.41c.39.39.9.59 1.41.59.51 0 1.02-.2 1.41-.59l7.78-7.78 2.81-2.81c.8-.78.8-2.07 0-2.86zM5.41 20L4 18.59l7.72-7.72 1.47 1.35L5.41 20z\"/>\n",
              "  </svg>\n",
              "      </button>\n",
              "      \n",
              "  <style>\n",
              "    .colab-df-container {\n",
              "      display:flex;\n",
              "      flex-wrap:wrap;\n",
              "      gap: 12px;\n",
              "    }\n",
              "\n",
              "    .colab-df-convert {\n",
              "      background-color: #E8F0FE;\n",
              "      border: none;\n",
              "      border-radius: 50%;\n",
              "      cursor: pointer;\n",
              "      display: none;\n",
              "      fill: #1967D2;\n",
              "      height: 32px;\n",
              "      padding: 0 0 0 0;\n",
              "      width: 32px;\n",
              "    }\n",
              "\n",
              "    .colab-df-convert:hover {\n",
              "      background-color: #E2EBFA;\n",
              "      box-shadow: 0px 1px 2px rgba(60, 64, 67, 0.3), 0px 1px 3px 1px rgba(60, 64, 67, 0.15);\n",
              "      fill: #174EA6;\n",
              "    }\n",
              "\n",
              "    [theme=dark] .colab-df-convert {\n",
              "      background-color: #3B4455;\n",
              "      fill: #D2E3FC;\n",
              "    }\n",
              "\n",
              "    [theme=dark] .colab-df-convert:hover {\n",
              "      background-color: #434B5C;\n",
              "      box-shadow: 0px 1px 3px 1px rgba(0, 0, 0, 0.15);\n",
              "      filter: drop-shadow(0px 1px 2px rgba(0, 0, 0, 0.3));\n",
              "      fill: #FFFFFF;\n",
              "    }\n",
              "  </style>\n",
              "\n",
              "      <script>\n",
              "        const buttonEl =\n",
              "          document.querySelector('#df-c58352c3-c01d-4ccc-97a2-5f4a8836b3fd button.colab-df-convert');\n",
              "        buttonEl.style.display =\n",
              "          google.colab.kernel.accessAllowed ? 'block' : 'none';\n",
              "\n",
              "        async function convertToInteractive(key) {\n",
              "          const element = document.querySelector('#df-c58352c3-c01d-4ccc-97a2-5f4a8836b3fd');\n",
              "          const dataTable =\n",
              "            await google.colab.kernel.invokeFunction('convertToInteractive',\n",
              "                                                     [key], {});\n",
              "          if (!dataTable) return;\n",
              "\n",
              "          const docLinkHtml = 'Like what you see? Visit the ' +\n",
              "            '<a target=\"_blank\" href=https://colab.research.google.com/notebooks/data_table.ipynb>data table notebook</a>'\n",
              "            + ' to learn more about interactive tables.';\n",
              "          element.innerHTML = '';\n",
              "          dataTable['output_type'] = 'display_data';\n",
              "          await google.colab.output.renderOutput(dataTable, element);\n",
              "          const docLink = document.createElement('div');\n",
              "          docLink.innerHTML = docLinkHtml;\n",
              "          element.appendChild(docLink);\n",
              "        }\n",
              "      </script>\n",
              "    </div>\n",
              "  </div>\n",
              "  "
            ]
          },
          "metadata": {},
          "execution_count": 56
        }
      ]
    },
    {
      "cell_type": "code",
      "source": [
        "# Nao sei se deu certo ou se so contou mortes, mas pelo numero total somando parece que contou tudo\n",
        "\n",
        "sexooo.groupby('AP_SEXO').count()"
      ],
      "metadata": {
        "colab": {
          "base_uri": "https://localhost:8080/",
          "height": 143
        },
        "id": "QBH3ddPhhZcu",
        "outputId": "5fdb202a-4741-4ab4-8f8f-18124bac34df"
      },
      "execution_count": 57,
      "outputs": [
        {
          "output_type": "execute_result",
          "data": {
            "text/plain": [
              "         AP_OBITO\n",
              "AP_SEXO          \n",
              "F           37981\n",
              "M           32575"
            ],
            "text/html": [
              "\n",
              "  <div id=\"df-e3c10ac4-1e6c-4c6f-88a9-d4b7af34b05e\">\n",
              "    <div class=\"colab-df-container\">\n",
              "      <div>\n",
              "<style scoped>\n",
              "    .dataframe tbody tr th:only-of-type {\n",
              "        vertical-align: middle;\n",
              "    }\n",
              "\n",
              "    .dataframe tbody tr th {\n",
              "        vertical-align: top;\n",
              "    }\n",
              "\n",
              "    .dataframe thead th {\n",
              "        text-align: right;\n",
              "    }\n",
              "</style>\n",
              "<table border=\"1\" class=\"dataframe\">\n",
              "  <thead>\n",
              "    <tr style=\"text-align: right;\">\n",
              "      <th></th>\n",
              "      <th>AP_OBITO</th>\n",
              "    </tr>\n",
              "    <tr>\n",
              "      <th>AP_SEXO</th>\n",
              "      <th></th>\n",
              "    </tr>\n",
              "  </thead>\n",
              "  <tbody>\n",
              "    <tr>\n",
              "      <th>F</th>\n",
              "      <td>37981</td>\n",
              "    </tr>\n",
              "    <tr>\n",
              "      <th>M</th>\n",
              "      <td>32575</td>\n",
              "    </tr>\n",
              "  </tbody>\n",
              "</table>\n",
              "</div>\n",
              "      <button class=\"colab-df-convert\" onclick=\"convertToInteractive('df-e3c10ac4-1e6c-4c6f-88a9-d4b7af34b05e')\"\n",
              "              title=\"Convert this dataframe to an interactive table.\"\n",
              "              style=\"display:none;\">\n",
              "        \n",
              "  <svg xmlns=\"http://www.w3.org/2000/svg\" height=\"24px\"viewBox=\"0 0 24 24\"\n",
              "       width=\"24px\">\n",
              "    <path d=\"M0 0h24v24H0V0z\" fill=\"none\"/>\n",
              "    <path d=\"M18.56 5.44l.94 2.06.94-2.06 2.06-.94-2.06-.94-.94-2.06-.94 2.06-2.06.94zm-11 1L8.5 8.5l.94-2.06 2.06-.94-2.06-.94L8.5 2.5l-.94 2.06-2.06.94zm10 10l.94 2.06.94-2.06 2.06-.94-2.06-.94-.94-2.06-.94 2.06-2.06.94z\"/><path d=\"M17.41 7.96l-1.37-1.37c-.4-.4-.92-.59-1.43-.59-.52 0-1.04.2-1.43.59L10.3 9.45l-7.72 7.72c-.78.78-.78 2.05 0 2.83L4 21.41c.39.39.9.59 1.41.59.51 0 1.02-.2 1.41-.59l7.78-7.78 2.81-2.81c.8-.78.8-2.07 0-2.86zM5.41 20L4 18.59l7.72-7.72 1.47 1.35L5.41 20z\"/>\n",
              "  </svg>\n",
              "      </button>\n",
              "      \n",
              "  <style>\n",
              "    .colab-df-container {\n",
              "      display:flex;\n",
              "      flex-wrap:wrap;\n",
              "      gap: 12px;\n",
              "    }\n",
              "\n",
              "    .colab-df-convert {\n",
              "      background-color: #E8F0FE;\n",
              "      border: none;\n",
              "      border-radius: 50%;\n",
              "      cursor: pointer;\n",
              "      display: none;\n",
              "      fill: #1967D2;\n",
              "      height: 32px;\n",
              "      padding: 0 0 0 0;\n",
              "      width: 32px;\n",
              "    }\n",
              "\n",
              "    .colab-df-convert:hover {\n",
              "      background-color: #E2EBFA;\n",
              "      box-shadow: 0px 1px 2px rgba(60, 64, 67, 0.3), 0px 1px 3px 1px rgba(60, 64, 67, 0.15);\n",
              "      fill: #174EA6;\n",
              "    }\n",
              "\n",
              "    [theme=dark] .colab-df-convert {\n",
              "      background-color: #3B4455;\n",
              "      fill: #D2E3FC;\n",
              "    }\n",
              "\n",
              "    [theme=dark] .colab-df-convert:hover {\n",
              "      background-color: #434B5C;\n",
              "      box-shadow: 0px 1px 3px 1px rgba(0, 0, 0, 0.15);\n",
              "      filter: drop-shadow(0px 1px 2px rgba(0, 0, 0, 0.3));\n",
              "      fill: #FFFFFF;\n",
              "    }\n",
              "  </style>\n",
              "\n",
              "      <script>\n",
              "        const buttonEl =\n",
              "          document.querySelector('#df-e3c10ac4-1e6c-4c6f-88a9-d4b7af34b05e button.colab-df-convert');\n",
              "        buttonEl.style.display =\n",
              "          google.colab.kernel.accessAllowed ? 'block' : 'none';\n",
              "\n",
              "        async function convertToInteractive(key) {\n",
              "          const element = document.querySelector('#df-e3c10ac4-1e6c-4c6f-88a9-d4b7af34b05e');\n",
              "          const dataTable =\n",
              "            await google.colab.kernel.invokeFunction('convertToInteractive',\n",
              "                                                     [key], {});\n",
              "          if (!dataTable) return;\n",
              "\n",
              "          const docLinkHtml = 'Like what you see? Visit the ' +\n",
              "            '<a target=\"_blank\" href=https://colab.research.google.com/notebooks/data_table.ipynb>data table notebook</a>'\n",
              "            + ' to learn more about interactive tables.';\n",
              "          element.innerHTML = '';\n",
              "          dataTable['output_type'] = 'display_data';\n",
              "          await google.colab.output.renderOutput(dataTable, element);\n",
              "          const docLink = document.createElement('div');\n",
              "          docLink.innerHTML = docLinkHtml;\n",
              "          element.appendChild(docLink);\n",
              "        }\n",
              "      </script>\n",
              "    </div>\n",
              "  </div>\n",
              "  "
            ]
          },
          "metadata": {},
          "execution_count": 57
        }
      ]
    },
    {
      "cell_type": "code",
      "source": [],
      "metadata": {
        "id": "zR9Zld_1sBQj"
      },
      "execution_count": null,
      "outputs": []
    }
  ]
}