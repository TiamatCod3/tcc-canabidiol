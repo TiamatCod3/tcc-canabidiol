{
  "nbformat": 4,
  "nbformat_minor": 0,
  "metadata": {
    "colab": {
      "provenance": [],
      "collapsed_sections": [
        "cBchulIOrbCW"
      ]
    },
    "kernelspec": {
      "name": "python3",
      "display_name": "Python 3"
    },
    "language_info": {
      "name": "python"
    }
  },
  "cells": [
    {
      "cell_type": "markdown",
      "source": [
        "# Tratamento das Bases de Epilepsia do Rio de Janeiro de 2015 a 2022"
      ],
      "metadata": {
        "id": "gxzcqPi-7j37"
      }
    },
    {
      "cell_type": "markdown",
      "source": [
        "# Importando as Bases"
      ],
      "metadata": {
        "id": "cBchulIOrbCW"
      }
    },
    {
      "cell_type": "code",
      "execution_count": null,
      "metadata": {
        "id": "rbo2R_Bajnku"
      },
      "outputs": [],
      "source": [
        "import pandas as pd"
      ]
    },
    {
      "cell_type": "code",
      "source": [
        "rj_epilepsia_2015 = pd.read_csv('/content/rj_epilepsia_2015.csv', sep = ',', encoding='latin-1')\n",
        "rj_epilepsia_2015"
      ],
      "metadata": {
        "id": "wIq2H9DMj7Ym"
      },
      "execution_count": null,
      "outputs": []
    },
    {
      "cell_type": "code",
      "source": [
        "rj_epilepsia_2016 = pd.read_csv('/content/rj_epilepsia_2016.csv', sep = ',', encoding='latin-1')\n",
        "rj_epilepsia_2016"
      ],
      "metadata": {
        "id": "Hsd8f9ILkGen"
      },
      "execution_count": null,
      "outputs": []
    },
    {
      "cell_type": "code",
      "source": [
        "rj_epilepsia_2017 = pd.read_csv('/content/rj_epilepsia_2017.csv', sep = ',', encoding='latin-1')\n",
        "rj_epilepsia_2017"
      ],
      "metadata": {
        "id": "fmEWUSayllIu"
      },
      "execution_count": null,
      "outputs": []
    },
    {
      "cell_type": "code",
      "source": [
        "rj_epilepsia_2018 = pd.read_csv('/content/rj_epilepsia_2018.csv', sep = ',', encoding='latin-1')\n",
        "rj_epilepsia_2018"
      ],
      "metadata": {
        "id": "CLJM1EVDsZ2V"
      },
      "execution_count": null,
      "outputs": []
    },
    {
      "cell_type": "code",
      "source": [
        "rj_epilepsia_2019 = pd.read_csv('/content/rj_epilepsia_2019.csv', sep = ',', encoding='latin-1')\n",
        "rj_epilepsia_2019"
      ],
      "metadata": {
        "id": "YLA1c67dsaNH"
      },
      "execution_count": null,
      "outputs": []
    },
    {
      "cell_type": "code",
      "source": [
        "rj_epilepsia_2020 = pd.read_csv('/content/rj_epilepsia_2020.csv', sep = ',', encoding='latin-1')\n",
        "rj_epilepsia_2020"
      ],
      "metadata": {
        "id": "k5KitKdesahB"
      },
      "execution_count": null,
      "outputs": []
    },
    {
      "cell_type": "code",
      "source": [
        "rj_epilepsia_2021 = pd.read_csv('/content/rj_epilepsia_2021.csv', sep = ',', encoding='latin-1')\n",
        "rj_epilepsia_2021"
      ],
      "metadata": {
        "id": "BntAFtaUsazF"
      },
      "execution_count": null,
      "outputs": []
    },
    {
      "cell_type": "code",
      "source": [
        "rj_epilepsia_2022 = pd.read_csv('/content/rj_epilepsia_2022.csv', sep = ',', encoding='latin-1')\n",
        "rj_epilepsia_2022"
      ],
      "metadata": {
        "id": "CfM0odTcsbBd"
      },
      "execution_count": null,
      "outputs": []
    },
    {
      "cell_type": "markdown",
      "source": [
        "# Concatenando, Refazendo o Indice e exportando"
      ],
      "metadata": {
        "id": "Aajy-NoSsy4a"
      }
    },
    {
      "cell_type": "code",
      "source": [
        "# Concatenando as bases\n",
        "\n",
        "rj_epilepsia_total = pd.concat([rj_epilepsia_2015, rj_epilepsia_2016, rj_epilepsia_2017, rj_epilepsia_2018, rj_epilepsia_2019, rj_epilepsia_2020, rj_epilepsia_2021, rj_epilepsia_2022], axis=0)\n",
        "rj_epilepsia_total"
      ],
      "metadata": {
        "id": "0pu74TZds5nC"
      },
      "execution_count": null,
      "outputs": []
    },
    {
      "cell_type": "code",
      "source": [
        "# Refazendo o Indice\n",
        "\n",
        "rj_epilepsia_total.index = range(rj_epilepsia_total.shape[0])\n",
        "rj_epilepsia_total"
      ],
      "metadata": {
        "id": "25CshCtntpgc"
      },
      "execution_count": null,
      "outputs": []
    },
    {
      "cell_type": "code",
      "source": [
        "# Exportando\n",
        "\n",
        "rj_epilepsia_total.to_csv('/content/rj_epilepsia_total.csv', sep =';')"
      ],
      "metadata": {
        "id": "umTv2_gxudgV"
      },
      "execution_count": null,
      "outputs": []
    },
    {
      "cell_type": "markdown",
      "source": [],
      "metadata": {
        "id": "WmVNkUSIhMJC"
      }
    },
    {
      "cell_type": "markdown",
      "source": [
        "# Formatando as colunas"
      ],
      "metadata": {
        "id": "Y_uHvrLb7tL4"
      }
    },
    {
      "cell_type": "code",
      "source": [
        "# Selecionando apenas as colunas que são interessantes para a nossa analise\n",
        "\n",
        "colunas_desejadas = ['AP_MVM', 'AP_CMP', 'AP_PRIPAL', 'AP_UFMUN', 'AP_CNSPCN', 'AP_COIDADE', 'AP_NUIDADE', 'AP_SEXO', 'AP_RACACOR', 'AP_MUNPCN', 'AP_UFNACIO', 'AP_CEPPCN', 'AP_TPATEN', 'AP_TPAPAC', 'AP_MOTSAI', 'AP_OBITO', 'AP_ENCERR', 'AP_PERMAN', 'AP_ALTA', 'AP_TRANSF', 'AP_DTOCOR', 'AP_APACANT', 'AP_CIDCAS', 'AP_CIDPRI', 'AP_CIDSEC']\n",
        "rj_epilepsia_total = pd.DataFrame(rj_epilepsia_total[colunas_desejadas])\n",
        "rj_epilepsia_total"
      ],
      "metadata": {
        "id": "2EvpRcsX8tDZ"
      },
      "execution_count": null,
      "outputs": []
    },
    {
      "cell_type": "code",
      "source": [
        "# Renomeando as colunas\n",
        "\n",
        "novo_nome_colunas = {'AP_MVM': 'data_processamento', 'AP_CMP': 'data_atendimento_paciente', 'AP_PRIPAL': 'procedimento_principal', 'AP_UFMUN': 'codigo_uf', 'AP_CNSPCN': 'numero_cns_paciente', 'AP_COIDADE': 'codigo_idade_paciente', 'AP_NUIDADE': 'numero_idade', 'AP_SEXO': 'sexo_paciente', 'AP_RACACOR': 'raca_paciente', 'AP_MUNPCN': 'codigo_uf_municipio_residencia', 'AP_UFNACIO': 'codigo_nacionalidade_paciente', 'AP_CEPPCN': 'cep_paciente', 'AP_TPATEN': 'tipo_atendimento', 'AP_TPAPAC': 'tipo_apac', 'AP_MOTSAI': 'motivo_saida_permanencia', 'AP_OBITO': 'indicador_obito', 'AP_ENCERR': 'indicador_encerramento', 'AP_PERMAN': 'indicador_permanencia', 'AP_ALTA': 'indicador_alta', 'AP_TRANSF': 'indicador_transferencia', 'AP_DTOCOR': 'data_ocorrencia', 'AP_APACANT': 'numero_apac_anterior', 'AP_CIDCAS': 'cid_causas_associadas', 'AP_CIDPRI': 'cid_principal', 'AP_CIDSEC': 'cid_sencundario'}"
      ],
      "metadata": {
        "id": "T4sdiuJxAToN"
      },
      "execution_count": null,
      "outputs": []
    },
    {
      "cell_type": "code",
      "source": [
        "# Renomeando no DF\n",
        "\n",
        "rj_epilepsia_total = rj_epilepsia_total.rename(columns=novo_nome_colunas)\n",
        "rj_epilepsia_total"
      ],
      "metadata": {
        "id": "efaMNk29DG9Z"
      },
      "execution_count": null,
      "outputs": []
    },
    {
      "cell_type": "code",
      "source": [
        "rj_epilepsia_total.to_csv('/content/rj_epilepsia_total.csv', sep =';')"
      ],
      "metadata": {
        "id": "dnGazVpkDy_Z"
      },
      "execution_count": null,
      "outputs": []
    },
    {
      "cell_type": "markdown",
      "source": [
        "# Análise Exploratória"
      ],
      "metadata": {
        "id": "gOyBP7k3hPGN"
      }
    },
    {
      "cell_type": "markdown",
      "source": [
        "## Por sexo"
      ],
      "metadata": {
        "id": "d6x7Yx1CiYEz"
      }
    },
    {
      "cell_type": "markdown",
      "source": [
        "### Feminino    !!!retirar as duplicatas!!!"
      ],
      "metadata": {
        "id": "Eu-xgN0rnT26"
      }
    },
    {
      "cell_type": "code",
      "source": [
        "sexo = ['F']\n",
        "selecao = rj_epilepsia_total['sexo_paciente'].isin(sexo)"
      ],
      "metadata": {
        "id": "mkyyIT6flTjn"
      },
      "execution_count": null,
      "outputs": []
    },
    {
      "cell_type": "code",
      "source": [
        "sexo_fem = rj_epilepsia_total[selecao]\n",
        "sexo_fem"
      ],
      "metadata": {
        "id": "weZmeRQZnJRM"
      },
      "execution_count": null,
      "outputs": []
    },
    {
      "cell_type": "code",
      "source": [
        "sexo_fem.index = range(sexo_fem.shape[0])\n",
        "sexo_fem"
      ],
      "metadata": {
        "id": "xuP4IQE8nLaE"
      },
      "execution_count": null,
      "outputs": []
    },
    {
      "cell_type": "code",
      "source": [
        "# INVESTIGAR (TO TENTANDO CONTAR OS PACIENTES UNICOS MAS NAO TEM 37K DE MULHERES UNICAS)\n",
        "\n",
        "# sexo_fem.drop_duplicates('numero_cns_paciente').count()\n",
        "\n",
        "colunas = ['numero_cns_paciente']\n",
        "sexofem = sexo_fem.filter(items=colunas)\n",
        "#sexofem.drop_duplicates('numero_cns_paciente').groupby('sexo_paciente').count()\n",
        "sexofem.drop_duplicates().count()\n",
        "sexofem"
      ],
      "metadata": {
        "id": "UmaP1sJ9IInO"
      },
      "execution_count": null,
      "outputs": []
    },
    {
      "cell_type": "markdown",
      "source": [
        "### Masculino"
      ],
      "metadata": {
        "id": "a6mkkKWinXsv"
      }
    },
    {
      "cell_type": "code",
      "source": [
        "sexo = ['M']\n",
        "selecao = rj_epilepsia_total['sexo_paciente'].isin(sexo)"
      ],
      "metadata": {
        "id": "NBo0Hpb6mEUw"
      },
      "execution_count": null,
      "outputs": []
    },
    {
      "cell_type": "code",
      "source": [
        "sexo_masc = rj_epilepsia_total[selecao]\n",
        "sexo_masc"
      ],
      "metadata": {
        "id": "xPro1TY7niwp"
      },
      "execution_count": null,
      "outputs": []
    },
    {
      "cell_type": "code",
      "source": [
        "sexo_masc.index = range(sexo_masc.shape[0])\n",
        "sexo_masc"
      ],
      "metadata": {
        "id": "A6E2R0YBnmC5"
      },
      "execution_count": null,
      "outputs": []
    },
    {
      "cell_type": "markdown",
      "source": [
        "### Sobre os sexos\n"
      ],
      "metadata": {
        "id": "gp4dASQDnpoA"
      }
    },
    {
      "cell_type": "code",
      "source": [
        "# Aparentemente da certo assim\n",
        "\n",
        "colunas = ['sexo_paciente', 'numero_cns_paciente']\n",
        "contagem_sexo = rj_epilepsia_total.filter(items=colunas)\n",
        "contagem_sexo"
      ],
      "metadata": {
        "id": "aCxjbjWkiq2y"
      },
      "execution_count": null,
      "outputs": []
    },
    {
      "cell_type": "code",
      "source": [
        "# Contagem de Pacientes Unicos por sexo\n",
        "\n",
        "contagem_sexo.drop_duplicates('numero_cns_paciente').groupby('sexo_paciente').count()"
      ],
      "metadata": {
        "id": "QBH3ddPhhZcu"
      },
      "execution_count": null,
      "outputs": []
    },
    {
      "cell_type": "markdown",
      "source": [
        "## Por mês de atendimento (competencia)"
      ],
      "metadata": {
        "id": "68gzFXgxRxFw"
      }
    },
    {
      "cell_type": "code",
      "source": [
        "# Tabela com os pacientes unicos nas linhas e as datas dos procedimentos nas colunas\n",
        "\n",
        "pacientes_data_atendimento = pd.pivot_table(rj_epilepsia_total, values='sexo_paciente', index=['numero_cns_paciente'],\n",
        "                       columns=['data_atendimento_paciente'], aggfunc='count', fill_value=0)\n",
        "pacientes_data_atendimento"
      ],
      "metadata": {
        "id": "gIN7-ddERzKO"
      },
      "execution_count": null,
      "outputs": []
    },
    {
      "cell_type": "code",
      "source": [
        "# Tabela com os pacientes unicos nas linhas e as datas dos procedimentos nas colunas\n",
        "\n",
        "procedimento_mes_atendimento = pd.pivot_table(rj_epilepsia_total, values='numero_cns_paciente', index=['procedimento_principal'],\n",
        "                       columns=['data_atendimento_paciente'], aggfunc='count', fill_value=0)\n",
        "procedimento_mes_atendimento"
      ],
      "metadata": {
        "id": "cJd7UIdekJy8"
      },
      "execution_count": null,
      "outputs": []
    }
  ]
}